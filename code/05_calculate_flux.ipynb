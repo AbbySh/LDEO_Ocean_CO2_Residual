{
 "cells": [
  {
   "cell_type": "raw",
   "id": "1c075ec5",
   "metadata": {},
   "source": []
  },
  {
   "cell_type": "code",
   "execution_count": null,
   "id": "e43e15e9",
   "metadata": {},
   "outputs": [],
   "source": [
    "import xarray as xr\n",
    "import numpy as np\n",
    "import math\n",
    "import datetime\n",
    "import yaml\n",
    "\n",
    "import matplotlib.pyplot as plt\n",
    "import cmocean as cm  "
   ]
  },
  {
   "cell_type": "code",
   "execution_count": null,
   "id": "eaa0ea82",
   "metadata": {},
   "outputs": [],
   "source": [
    "#This file contains configuration details like API keys and passwords\n",
    "global_vars = yaml.safe_load(open('../config.yml', 'r') )"
   ]
  },
  {
   "cell_type": "code",
   "execution_count": null,
   "id": "f6fecd09",
   "metadata": {},
   "outputs": [],
   "source": [
    "#This has custom functions - namely finding timeframes and graphing\n",
    "%run ./00_custom_functions.ipynb   "
   ]
  },
  {
   "cell_type": "code",
   "execution_count": null,
   "id": "19b09384",
   "metadata": {},
   "outputs": [],
   "source": [
    "#set data folders for input and output\n",
    "cloud = False\n",
    "if cloud:\n",
    "    input_folder = global_vars['reconstruction_folder_cloud']\n",
    "    reconstructed_file = input_folder + 'pCO2_LEAP_XGBoost-Reconstructed_202001-202212.nc'\n",
    "    #seaflux_file = '/data/artemis/observations/SeaFlux/SeaFlux_v2022.01_no_pco2.nc'\n",
    "    seaflux_file = global_vars['download_folder_cloud'] + '\\SeaFlux\\originals\\SeaFlux_LDEO_SeaFlux-v202301-all_1982-2022.nc'\n",
    "    coastal_filling_file = '/data/artemis/observations/SeaFlux/Coastal_fill_scaling_LDEOtmp.nc'\n",
    "else:\n",
    "    input_folder = global_vars['reconstruction_folder_local']\n",
    "    reconstructed_file = input_folder + 'pCO2_LEAP_XGBoost-fco2-residual-reconstructed_198201-202212.nc'\n",
    "    seaflux_file = global_vars['download_folder_local'] + '\\SeaFlux\\originals\\SeaFlux_LDEO_SeaFlux-v202301-all_1982-2022.nc'\n",
    "    coastal_filling_file = r'C:\\Users\\Devan\\Downloads\\datasets\\LEAP_CO2\\artemis_copy\\Coastal_fill_scaling_LDEOtmp.nc'\n",
    "\n",
    "output_folder = input_folder   #Because we are inputting and outputting processed files, the folder can be the same\n",
    "\n",
    "flux_variable = 'fco2'  #for differentiating between pco2 flux and fco2 flux. Used for naming as well"
   ]
  },
  {
   "cell_type": "markdown",
   "id": "0cf694d7",
   "metadata": {},
   "source": [
    "#### Ensure Common Gridding"
   ]
  },
  {
   "cell_type": "code",
   "execution_count": null,
   "id": "8c864a26",
   "metadata": {},
   "outputs": [],
   "source": [
    "recon_ens = xr.load_dataset(reconstructed_file)\n",
    "seaflux = xr.open_dataset(seaflux_file)\n",
    "coast_new = xr.open_dataset(coastal_filling_file)"
   ]
  },
  {
   "cell_type": "code",
   "execution_count": null,
   "id": "c889c719",
   "metadata": {},
   "outputs": [],
   "source": [
    "#This chunk is a TEMPORARY update to the coastal filling file to copy 2021 data over to 2022 so we can view 2022 flux\n",
    "# ideally we would update coastal file with 2022 using normal methodology - TODO\n",
    "import pandas as pd\n",
    "coast_tmp = np.empty([480+12,180,360])\n",
    "ttime = pd.date_range(start='1982-01', end='2022-12',freq='MS') + np.timedelta64(14, 'D')\n",
    "coast_tmp[0:480,0:180,0:360] = coast_new.coast_fill\n",
    "coast_tmp[480:,0:180,0:360] = coast_new.coast_fill.sel(time=slice('2021','2021')) #fill 2022 with values from 2021\n",
    "coast_tmp = xr.Dataset({'coast_fill':([\"time\",\"lat\",\"lon\"],coast_tmp)},\n",
    "                 coords={'time':(['time'],ttime),'lat':(['lat'],coast_new.lat.values),'lon':(['lon'],coast_new.lon.values) })\n",
    "coast_new = coast_tmp"
   ]
  },
  {
   "cell_type": "code",
   "execution_count": null,
   "id": "2a03a69a",
   "metadata": {},
   "outputs": [],
   "source": [
    "# To match the reconstructed data, we need each file to be in this format: time, ylat, xlon \n",
    "# with time ranges on the 15th of the month, \n",
    "# and ylat and xlon on 1 degree resolution (ylat from -89.5 to 89.5; xlon from -179.5 to 179.5)\n",
    "# This code checks these conditions\n",
    "#If anything errors out, we would need to reformat the input data prior to this script\n",
    "\n",
    "if True: #these are known changes required from the 2021 version\n",
    "    seaflux = seaflux.rename({'lat': 'ylat', 'lon':'xlon'})\n",
    "    seaflux = seaflux.transpose('time','ylat','xlon',...)\n",
    "    coast_new = coast_new.rename({'lat': 'ylat', 'lon':'xlon'})\n",
    "    coast_new = coast_new.transpose('ylat','xlon',...)\n",
    "\n",
    "#check coordinate naming\n",
    "assert set(list(seaflux.coords)) >= {'time','ylat','xlon'}\n",
    "assert set(list(coast_new.coords)) >= {'time','ylat','xlon'}\n",
    "\n",
    "#check mid-month date\n",
    "assert set(list([x.astype('datetime64[s]').item().day for x in seaflux.time.data])) == {15}\n",
    "assert set(list([x.astype('datetime64[s]').item().day for x in coast_new.time.data])) == {15}\n",
    "\n",
    "#check grid resolution\n",
    "assert set(list(seaflux.ylat.values)) <= set([x+.5 for x in range(-90, 90, 1)])\n",
    "assert set(list(seaflux.xlon.values)) <= set([x+.5 for x in range(-180,180,1)])\n",
    "assert set(list(coast_new.ylat.values)) <= set([x+.5 for x in range(-90, 90, 1)])\n",
    "assert set(list(coast_new.xlon.values)) <= set([x+.5 for x in range(-180,180,1)])"
   ]
  },
  {
   "cell_type": "markdown",
   "id": "29f8905d",
   "metadata": {},
   "source": [
    "#### Find Common Timeframe"
   ]
  },
  {
   "cell_type": "code",
   "execution_count": null,
   "id": "b85042e4",
   "metadata": {},
   "outputs": [],
   "source": [
    "start_yearmonth, end_yearmonth = find_least_date_range([recon_ens, seaflux, coast_new]) #ocean area does not have a time component so is not included\n",
    "\n",
    "#start_yearmonth = '2020-01'  #just for testing/debugging\n",
    "#end_yearmonth = '2021-12'   #just for testing/debugging\n",
    "\n",
    "print(f'Annual flux calculations will output from: {start_yearmonth} to {end_yearmonth}')"
   ]
  },
  {
   "cell_type": "markdown",
   "id": "ca43d792",
   "metadata": {},
   "source": [
    "## Calculate Flux"
   ]
  },
  {
   "cell_type": "code",
   "execution_count": null,
   "id": "ede7004a",
   "metadata": {},
   "outputs": [],
   "source": [
    "#filter to same time frame\n",
    "seaflux_filter = seaflux.sel(time=slice(str(start_yearmonth),str(end_yearmonth))) \n",
    "coast_filter = coast_new.coast_fill.sel(time=slice(str(start_yearmonth),str(end_yearmonth))) \n",
    "recon_ens_filter = recon_ens.sel(time=slice(str(start_yearmonth),str(end_yearmonth))) "
   ]
  },
  {
   "cell_type": "code",
   "execution_count": null,
   "id": "7386ec71",
   "metadata": {},
   "outputs": [],
   "source": [
    "%%time\n",
    "wind_prods = [\"CCMP2\",\"ERA5\",\"JRA55\"]\n",
    "kw1 = seaflux_filter.kw.sel(wind=wind_prods) #just get the 3 winds we want. \n",
    "kw = kw1 * 87.6        # --> cm/hr now m/yr\n",
    "kw = kw.where(kw > 0)  # solubility (mol/m3/uatm) and kw converted from (cm/hr) to (m/s)\n",
    "k0 = seaflux_filter.sol/1000  # mol / m3 / uatm. Note that in new version of \n",
    "icef = seaflux_filter.ice    # ice fraction \n",
    "ice_weighting = 1 - icef.fillna(0)"
   ]
  },
  {
   "cell_type": "code",
   "execution_count": null,
   "id": "f4184633",
   "metadata": {},
   "outputs": [],
   "source": [
    "#Now process reconstructed ocean_co2 and create pco2 delta\n",
    "ocean_co2 = recon_ens_filter[flux_variable+'_reconstructed'] #ex. recon_ens_filter.pco2_reconstructed\n",
    "ocean_co2_filled = ocean_co2.fillna(coast_filter)  \n",
    "delta_co2 = ocean_co2_filled - seaflux_filter.fco2atm"
   ]
  },
  {
   "cell_type": "code",
   "execution_count": null,
   "id": "f1353da6",
   "metadata": {},
   "outputs": [],
   "source": [
    "#calculate flux\n",
    "flux = ( k0 * kw * delta_co2 * ice_weighting ) # mol/m2/yr\n",
    "flux_xr = xr.Dataset({'flux':([\"time\",\"ylat\",\"xlon\",\"wind\"],flux.data)},\n",
    "                        coords={'time':(['time'],flux.time.values),\n",
    "                                'ylat':(['ylat'],flux.ylat.values),\n",
    "                                'xlon':(['xlon'],flux.xlon.values),\n",
    "                                'wind':(['wind'],flux.wind.values)  })\n",
    "\n",
    "flux_xr.flux.attrs['description'] = flux_variable+\"-Residual integrated CO2 Flux (XGBoost ensemble mean)\"\n",
    "flux_xr.flux.attrs['units'] = 'mol/m^2/yr (negative into ocean), no river flux adjustment done here'\n",
    "flux_xr.attrs['ocean_co2_source'] = str(reconstructed_file)\n",
    "flux_xr.attrs['seaflux_source'] = str(seaflux_file)\n",
    "flux_xr.attrs['coast_filling_source'] = str(coastal_filling_file)\n",
    "flux_xr.attrs['created'] = str(datetime.datetime.now())\n",
    "#flux_xr.attrs['code'] = \"/home/vbennington/pCO2_Residual/calc_fluxes.ipynb\"\n",
    "flux_xr"
   ]
  },
  {
   "cell_type": "code",
   "execution_count": null,
   "id": "14cfab1f",
   "metadata": {},
   "outputs": [],
   "source": [
    "#output optionally\n",
    "if True: \n",
    "    output_netcdf_with_date(flux_xr, output_folder+'', 'pCO2_LEAP_'+flux_variable+'-residual-flux-monthly-3winds') "
   ]
  },
  {
   "cell_type": "code",
   "execution_count": null,
   "id": "007b9ac5",
   "metadata": {},
   "outputs": [],
   "source": [
    "plot_data = flux_xr.flux.mean(\"time\").mean(\"wind\")  \n",
    "levelspace = np.linspace(-5,5,11) \n",
    "fig,ax = plt.subplots(1,1,figsize=(8,3))\n",
    "x0=ax.contourf(flux_xr.xlon,flux_xr.ylat,plot_data,levels=levelspace,cmap=cm.cm.balance)\n",
    "plt.colorbar(x0,ax=ax).set_label('uatm');\n",
    "ax.set_title(\"Mean \"+'pCO2_flux'+ \" across time/wind product\");"
   ]
  },
  {
   "cell_type": "markdown",
   "id": "bbd31e8e",
   "metadata": {},
   "source": [
    "## Enhancing / Summarizing Flux"
   ]
  },
  {
   "cell_type": "code",
   "execution_count": null,
   "id": "e6334935",
   "metadata": {},
   "outputs": [],
   "source": [
    "# This code adjusts for ocean acea and summarizes glboally and annually\n",
    "\n",
    "area = seaflux_filter.area #sarea.area_ocean\n",
    "flux_tmp = flux_xr.flux * area * 12     # g/yr; flux_ens is in mol/m2/yr so *area gets you mol/yr and then *12 is g/yr\n",
    "#flux_tmp = flux_tmp.where(mask['open_ocean']>=1).sum(['lat','lon'])  #this is old code; not required as land is already nan\n",
    "flux_all_regions = flux_tmp.sum(['ylat','xlon'])  #sum over the region to get total flux in g/yr\n",
    "flux_all_regions_corrected = flux_all_regions.where(flux_all_regions!=0)  #this is to correct for anomalies in data\n",
    "#flux_all_regions_corrected = flux_all_regions_corrected/1e15 #(optionally) divide by 1e15 to get in Pg/yr"
   ]
  },
  {
   "cell_type": "code",
   "execution_count": null,
   "id": "54d4c9c3",
   "metadata": {
    "scrolled": true
   },
   "outputs": [],
   "source": [
    "# Now compose an xarray to write out a file\n",
    "# Note, we are only use 1 LDEO product so this code has been simplified from a previous version\n",
    "\n",
    "annual_fluxes = flux_all_regions_corrected.groupby(\"time.year\").mean(\"time\")\n",
    "flux_file_yearly = xr.Dataset({\n",
    "                        'flux':([\"time\",\"wind\"],flux_all_regions_corrected.data),  #calculated above\n",
    "                        'annual_flux':([\"year\",\"wind\"],annual_fluxes.data)},\n",
    "                        coords={'time':(['time'],flux_all_regions_corrected.time.values),\n",
    "                                'year':(['year'],range(int(start_yearmonth[0:4]), int(end_yearmonth[0:4])+1)),  #this is just a list of years\n",
    "                                'wind':(['wind'],flux_all_regions_corrected.wind.values)  })\n",
    "\n",
    "flux_file_yearly.flux.attrs['description'] = flux_variable+\"-Residual integrated CO2 Flux (XGBoost ensemble mean)\"\n",
    "flux_file_yearly.flux.attrs['units'] = \"g C /year (negative into ocean), no river flux adjustment done here\"\n",
    "flux_file_yearly.annual_flux.attrs['units'] = \"g C /year (negative into ocean), no river flux adjustment done here\"\n",
    "flux_file_yearly.attrs['ocean_co2_source'] = str(reconstructed_file)\n",
    "flux_file_yearly.attrs['seaflux_source'] = str(seaflux_file)\n",
    "flux_file_yearly.attrs['coast_filling_source'] = str(coastal_filling_file)\n",
    "flux_file_yearly.attrs['created'] = str(datetime.datetime.now())\n",
    "#flux_xr.attrs['code'] = \"/home/vbennington/pCO2_Residual/calc_fluxes.ipynb\"\n",
    "\n",
    "flux_file_yearly"
   ]
  },
  {
   "cell_type": "code",
   "execution_count": null,
   "id": "0e383f10",
   "metadata": {},
   "outputs": [],
   "source": [
    "#output flux to netcdf file\n",
    "output_netcdf_with_date(flux_file_yearly, output_folder+'', 'pCO2_LEAP_'+flux_variable+'-residual-flux-monthly-3winds-summary')"
   ]
  },
  {
   "cell_type": "code",
   "execution_count": null,
   "id": "6158bc1f",
   "metadata": {
    "scrolled": true
   },
   "outputs": [],
   "source": [
    "river_carbon_adjustment = 0.49   #Pg/yr adjustment to be applied on all products \n",
    "plot_data = flux_file_yearly.flux.groupby(\"time.year\").mean(\"time\").mean('wind')/1e15 - river_carbon_adjustment\n",
    "\n",
    "fig = plt.figure(figsize=(8,3))\n",
    "plt.plot(flux_file_yearly.year,plot_data)\n",
    "plt.grid(True)\n",
    "plt.title('Annual CO2 Flux \\n (avg 3 wind products; with riverine CO2 adj)'); \n",
    "plt.xlabel('Time'); plt.ylabel(flux_variable + ' Flux (Pg/yr)');"
   ]
  },
  {
   "cell_type": "code",
   "execution_count": null,
   "id": "ff108106",
   "metadata": {},
   "outputs": [],
   "source": []
  }
 ],
 "metadata": {
  "kernelspec": {
   "display_name": "leap_co2_v1",
   "language": "python",
   "name": "leap_co2_v1"
  },
  "language_info": {
   "codemirror_mode": {
    "name": "ipython",
    "version": 3
   },
   "file_extension": ".py",
   "mimetype": "text/x-python",
   "name": "python",
   "nbconvert_exporter": "python",
   "pygments_lexer": "ipython3",
   "version": "3.11.3"
  }
 },
 "nbformat": 4,
 "nbformat_minor": 5
}
