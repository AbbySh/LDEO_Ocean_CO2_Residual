{
 "cells": [
  {
   "cell_type": "raw",
   "id": "310f7d18",
   "metadata": {},
   "source": []
  },
  {
   "cell_type": "code",
   "execution_count": 1,
   "id": "9db549a2",
   "metadata": {},
   "outputs": [],
   "source": [
    "# A note on regridding\n",
    "    # We use the XESMF package to regrid data to a 1x1 degree global grid\n",
    "    # From their documentation, \"When dealing with global grids, we need to set periodic=True, otherwise data along the meridian line will be missing\"\n",
    "    # \"For real-world data, it is generally recommended to use conservative for [high resolution to low resolution],\n",
    "        # because it takes average over small source grid boxes, while bilinear and nearest_s2d effectively throw away most of source grid boxes.\" \n",
    "        # More at https://xesmf.readthedocs.io/en/latest/notebooks/Compare_algorithms.html\n",
    "    # We follow this except for ERA5 SLP which we use bilinear. Using conservative and conservative_normed gives a warning \"Latitude is outside of [-90, 90]\" and we have a separate coastal filling process. \n",
    "        # See https://xesmf.readthedocs.io/en/latest/notebooks/Masking.html"
   ]
  },
  {
   "cell_type": "code",
   "execution_count": 4,
   "id": "1e2fca94",
   "metadata": {},
   "outputs": [],
   "source": [
    "import pandas as pd\n",
    "import xarray as xr\n",
    "import numpy as np\n",
    "import datetime\n",
    "import numpy.ma as ma\n",
    "import glob\n",
    "import matplotlib.pyplot as plt\n",
    "import re\n",
    "import os\n",
    "import yaml"
   ]
  },
  {
   "cell_type": "code",
   "execution_count": 5,
   "id": "b10e2558",
   "metadata": {},
   "outputs": [],
   "source": [
    "#This file contains configuration details like API keys and passwords\n",
    "global_vars = yaml.safe_load(open('../config.yml', 'r') )"
   ]
  },
  {
   "cell_type": "code",
   "execution_count": 6,
   "id": "a5b5c09f",
   "metadata": {},
   "outputs": [],
   "source": [
    "ESMFMKFILE = global_vars['ESMFMKFILE']\n",
    "#%env ESMFMKFILE $ESMFMKFILE  #if running locally; some issues with xesmf versioning so may need this line\n",
    "import xesmf"
   ]
  },
  {
   "cell_type": "code",
   "execution_count": 7,
   "id": "53354db1",
   "metadata": {},
   "outputs": [],
   "source": [
    "#This has custom functions - several but the fCO2_to_pCO2 function is key\n",
    "%run ./00_custom_functions.ipynb"
   ]
  },
  {
   "cell_type": "code",
   "execution_count": 8,
   "id": "01d540c7",
   "metadata": {},
   "outputs": [
    {
     "name": "stdout",
     "output_type": "stream",
     "text": [
      "/data/artemis/workspace/ds4114/online_data/\n"
     ]
    }
   ],
   "source": [
    "# To ingest the raw data downloaded in the previous script, we need to point to the location of the downloads\n",
    "# Data will be read at this location in folders such as root/SST/originals/ and root/SSS/orginals/\n",
    "# Processed data will be saved to folders such as root/SST/processed/ \n",
    "# Note that data file names within these folders have been hardcoded in each section below\n",
    "cloud = True\n",
    "if cloud:\n",
    "    data_folder_root = global_vars['download_folder_cloud']\n",
    "else:\n",
    "    data_folder_root = global_vars['download_folder_local']\n",
    "print(data_folder_root)\n",
    "\n",
    "\n",
    "# The following two variables are used to slice the data to desired time frames for consistency or to backfill historical data will averages. No changes required.\n",
    "# Given the time range limitiations of the raw data, this primarily affects MLD (1 year repeated) and CHL (linear interpoloation). \n",
    "# For other data like SLP, this limits the real-time (experimental) data from recent months\n",
    "# Note that all input files should have data in at least this time frame\n",
    "processed_start_yearmonth = '1982-01'  \n",
    "processed_end_yearmonth = '2023-04'   \n",
    "\n",
    "figsizew, figsizeh = 6, 3  #figure size for maps (width/height)"
   ]
  },
  {
   "cell_type": "code",
   "execution_count": 9,
   "id": "f2f5217c",
   "metadata": {},
   "outputs": [],
   "source": [
    "#create desired resolution and time frame\n",
    "ylat = xr.DataArray(data=[x+.5 for x in range(-90, 90, 1)], dims=['ylat'], coords=dict( ylat=(['ylat'],[x+.5 for x in range(-90, 90, 1)]) ),)\n",
    "xlon = xr.DataArray(data=[x+.5 for x in range(-180,180,1)], dims=['xlon'], coords=dict( xlon=(['xlon'],[x+.5 for x in range(-180,180,1)]) ),)\n",
    "ttime = pd.date_range(start=str(processed_start_yearmonth), end=str(processed_end_yearmonth),freq='MS') + np.timedelta64(14, 'D') #time should be monthly on the middle of the month\n",
    "        #note that the time doesnt affect regridding but we do use this time to overwrite the monthly dates so its consistent\n",
    "\n",
    "ideal_grid = xr.Dataset({'time':(['time'],ttime.values), 'latitude':(['latitude'],ylat.values),'longitude':(['longitude'],xlon.values)}) #must be named this way for old XESFM versions"
   ]
  },
  {
   "cell_type": "code",
   "execution_count": null,
   "id": "9d654590",
   "metadata": {},
   "outputs": [],
   "source": []
  },
  {
   "cell_type": "markdown",
   "id": "1a566072",
   "metadata": {},
   "source": [
    "## Temperature (SST)\n",
    "#### NOAA"
   ]
  },
  {
   "cell_type": "code",
   "execution_count": 14,
   "id": "82501bb7",
   "metadata": {},
   "outputs": [],
   "source": [
    "sst = xr.open_dataset(data_folder_root+r'SST/originals/SST_NOAA_OI-V2-HighRes_198109-202306.nc')  \n",
    "#sst"
   ]
  },
  {
   "cell_type": "code",
   "execution_count": 15,
   "id": "802025fa",
   "metadata": {},
   "outputs": [
    {
     "name": "stdout",
     "output_type": "stream",
     "text": [
      "CPU times: user 32.3 s, sys: 5.73 s, total: 38 s\n",
      "Wall time: 40 s\n"
     ]
    }
   ],
   "source": [
    "%%time\n",
    "sst_filtered = sst.sel(time=slice(str(processed_start_yearmonth),str(processed_end_yearmonth))) #already monthly so select desired years\n",
    "sst_regridder = xesmf.Regridder(sst_filtered, ideal_grid, 'conservative', periodic=True)  #see notes above on why conservative over bilinear\n",
    "sst_out = sst_regridder(sst_filtered, keep_attrs=True)\n",
    "#sst_out"
   ]
  },
  {
   "cell_type": "code",
   "execution_count": 16,
   "id": "3f381e15",
   "metadata": {},
   "outputs": [],
   "source": [
    "sst_out = sst_out.rename({'latitude': 'ylat','longitude': 'xlon'}) #rename to be consistent with prior work\n",
    "sst_out = sst_out.assign_coords(time=ttime) #overwrite time dimension to be midmonth"
   ]
  },
  {
   "cell_type": "code",
   "execution_count": 11,
   "id": "00042c57",
   "metadata": {},
   "outputs": [
    {
     "name": "stdout",
     "output_type": "stream",
     "text": [
      "Cancelling output - SST_NOAA_OI-V2-1x1_198201-202304.nc already exists in /data/artemis/workspace/ds4114/online_data/SST/processed/\n"
     ]
    }
   ],
   "source": [
    "output_netcdf_with_date(sst_out, data_folder_root+'SST/processed/', 'SST_NOAA_OI-V2-1x1')"
   ]
  },
  {
   "cell_type": "code",
   "execution_count": 69,
   "id": "0850a3da",
   "metadata": {},
   "outputs": [
    {
     "data": {
      "image/png": "[encoded data removed]",
      "text/plain": [
       "<Figure size 432x216 with 2 Axes>"
      ]
     },
     "metadata": {
      "needs_background": "light"
     },
     "output_type": "display_data"
    }
   ],
   "source": [
    "fig = plt.figure(figsize=(figsizew,figsizeh))\n",
    "plt.contourf(ideal_grid.longitude,ideal_grid.latitude,sst_out.sst.sel(time='2022-06-15')) #just choosing latest time slice\n",
    "plt.title('NOAA SST (latest month)'); plt.xlabel('Lon'); plt.ylabel('Lat')\n",
    "plt.colorbar().set_label('deg C');"
   ]
  },
  {
   "cell_type": "markdown",
   "id": "3c248459-1690-4054-967c-befe955a6b70",
   "metadata": {},
   "source": [
    "#### ECMWF"
   ]
  },
  {
   "cell_type": "code",
   "execution_count": 79,
   "id": "fa2e33f0-b5e0-4ee6-a46f-bf67f7844da7",
   "metadata": {},
   "outputs": [],
   "source": [
    "sst_era5 = xr.open_mfdataset(data_folder_root+r'SST/originals/SST_ECMWF_ERA5-monthly-reanalysis-SST_*.nc') "
   ]
  },
  {
   "cell_type": "code",
   "execution_count": 80,
   "id": "f0adc6a0-d2d6-41fe-8e3a-e9e87f197d0a",
   "metadata": {},
   "outputs": [
    {
     "name": "stdout",
     "output_type": "stream",
     "text": [
      "CPU times: user 12.4 s, sys: 72.6 ms, total: 12.4 s\n",
      "Wall time: 12.5 s\n"
     ]
    }
   ],
   "source": [
    "%%time\n",
    "#Regrid sst_era5\n",
    "sst_era5_highres = sst_era5.sel(expver=1).sst - 273.15  #do do not need the experimental/recent data because socat is only up till end of the prior year. Also convert deg K to deg C.\n",
    "    #Note the expver variable in era5 indicates new experimental data: #https://confluence.ecmwf.int/pages/viewpage.action?pageId=173385064\n",
    "sst_era5_highres = sst_era5_highres.sel(time=slice(str(processed_start_yearmonth),str(processed_end_yearmonth))) #already monthly so select desired years\n",
    "sst_era5_highres = xr.Dataset({'sst_era5':(['time','latitude','longitude'],sst_era5_highres.data),'time':(['time'],sst_era5_highres.time.data),'latitude':(['latitude'],sst_era5_highres.latitude.data),'longitude':(['longitude'],sst_era5_highres.longitude.data)})\n",
    "sst_era5_highres_regridder = xesmf.Regridder(sst_era5_highres, ideal_grid, 'bilinear', periodic=True) #See note above about bilinear vs conservative\n",
    "sst_era5_out = sst_era5_highres_regridder(sst_era5_highres, keep_attrs=False)\n",
    "#sst_era5_out"
   ]
  },
  {
   "cell_type": "code",
   "execution_count": 81,
   "id": "321dc7fe-807b-47e6-b8a7-4d4170b1789f",
   "metadata": {},
   "outputs": [],
   "source": [
    "sst_era5_out = sst_era5_out.rename({'latitude': 'ylat','longitude': 'xlon'}) #rename to be consistent with prior work\n",
    "sst_era5_out = sst_era5_out.assign_coords(time=ttime) #overwrite time dimension to be midmonth\n",
    "mslp_out.mslp.attrs['units'] = 'deg C (previously deg K)'"
   ]
  },
  {
   "cell_type": "code",
   "execution_count": 82,
   "id": "ab941318-b8e3-499a-a9ba-d1b52f73d261",
   "metadata": {},
   "outputs": [
    {
     "name": "stdout",
     "output_type": "stream",
     "text": [
      "Saved SST_ECMWF_ERA5-monthly-reanalysis-1x1-SST_198201-202304.nc to /data/artemis/workspace/ds4114/online_data/SST/processed/\n"
     ]
    }
   ],
   "source": [
    "output_netcdf_with_date(sst_era5_out, data_folder_root+'SST/processed/', 'SST_ECMWF_ERA5-monthly-reanalysis-1x1-SST')"
   ]
  },
  {
   "cell_type": "code",
   "execution_count": 83,
   "id": "f0b475ad",
   "metadata": {},
   "outputs": [
    {
     "data": {
      "image/png": "[encoded data removed]",
      "text/plain": [
       "<Figure size 432x216 with 2 Axes>"
      ]
     },
     "metadata": {
      "needs_background": "light"
     },
     "output_type": "display_data"
    }
   ],
   "source": [
    "fig = plt.figure(figsize=(figsizew,figsizeh))\n",
    "plt.contourf(ideal_grid.longitude,ideal_grid.latitude,sst_era5_out.sst_era5.sel(time='2022-06-15').data) #just choosing one time slice\n",
    "plt.title('ERA5 SST (last summer)'); plt.xlabel('Lon'); plt.ylabel('Lat')\n",
    "plt.colorbar().set_label('deg C');"
   ]
  },
  {
   "cell_type": "markdown",
   "id": "ce2b2645-2b90-4c31-bc8c-12ed3e0c4827",
   "metadata": {},
   "source": [
    "#### JRA55"
   ]
  },
  {
   "cell_type": "code",
   "execution_count": 166,
   "id": "d4662535-becb-4c7f-b7ec-d6a039c6ef25",
   "metadata": {},
   "outputs": [],
   "source": [
    "sst_jra55 = xr.open_mfdataset(data_folder_root+r'SST/originals/SST_JMA_JRA55-do-daily-reanalysis-SST_*.nc')\n",
    "#There is a lot of metadata in these files"
   ]
  },
  {
   "cell_type": "code",
   "execution_count": 167,
   "id": "7e660ad2-b117-4523-982e-90768b584c87",
   "metadata": {},
   "outputs": [
    {
     "name": "stderr",
     "output_type": "stream",
     "text": [
      "/home/ds4114/.conda/envs/leap_co2_amanada/lib/python3.8/site-packages/dask/array/core.py:383: FutureWarning: elementwise comparison failed; returning scalar instead, but in the future will perform elementwise comparison\n",
      "  o = func(*args, **kwargs)\n"
     ]
    }
   ],
   "source": [
    "#Data is on a dialy basis s so we need to average to get a monthly SST\n",
    "sst_jra55_monthly = sst_jra55.tos.resample({'time':'1m'}).mean()\n",
    "    #np.array(test.sel(time='2018-01-31',lat=0.5,lon=.5)) #28.461128\n",
    "\n",
    "#Next, regrid\n",
    "sst_jra55_monthly = sst_jra55_monthly.sel(time=slice(str(processed_start_yearmonth),str(processed_end_yearmonth))) #to select desired years\n",
    "sst_jra55_monthly_regridder = xesmf.Regridder(sst_jra55_monthly, ideal_grid, 'bilinear', periodic=True) #See note above about bilinear vs conservative\n",
    "sst_jra55_out = sst_jra55_monthly_regridder(sst_jra55_monthly, keep_attrs=False)\n",
    "sst_jra55_out = sst_jra55_out.to_dataset(name='sst_jra55')\n",
    "#sst_jra55_out"
   ]
  },
  {
   "cell_type": "code",
   "execution_count": 169,
   "id": "aafaa45d-d834-4461-a6f2-421c17cc25d7",
   "metadata": {},
   "outputs": [],
   "source": [
    "sst_jra55_out = sst_jra55_out.rename({'latitude': 'ylat','longitude': 'xlon'}) #rename to be consistent with prior work\n",
    "sst_jra55_out = sst_jra55_out.transpose('time','ylat','xlon')\n",
    "sst_jra55_out = sst_jra55_out.assign_coords(time=ttime) #overwrite time dimension to be midmonth\n",
    "sst_jra55_out.attrs['units'] = 'deg C'"
   ]
  },
  {
   "cell_type": "code",
   "execution_count": 175,
   "id": "64764872-8b95-437f-80f1-eb369d3dfb2e",
   "metadata": {},
   "outputs": [
    {
     "name": "stderr",
     "output_type": "stream",
     "text": [
      "/home/ds4114/.conda/envs/leap_co2_amanada/lib/python3.8/site-packages/dask/array/numpy_compat.py:39: RuntimeWarning: invalid value encountered in true_divide\n",
      "  x = np.divide(x1, x2, out)\n"
     ]
    },
    {
     "name": "stdout",
     "output_type": "stream",
     "text": [
      "Saved SST_JMA_JRA55-do-monthly-reanalysis-SST_198201-202304.nc to /data/artemis/workspace/ds4114/online_data/SST/processed/\n"
     ]
    }
   ],
   "source": [
    "output_netcdf_with_date(sst_jra55_out, data_folder_root+'SST/processed/', 'SST_JMA_JRA55-do-monthly-reanalysis-SST')"
   ]
  },
  {
   "cell_type": "code",
   "execution_count": 174,
   "id": "cffa9fe5-91be-4e9e-896b-a06f245feb8a",
   "metadata": {},
   "outputs": [
    {
     "data": {
      "image/png": "[encoded data removed]",
      "text/plain": [
       "<Figure size 432x216 with 2 Axes>"
      ]
     },
     "metadata": {
      "needs_background": "light"
     },
     "output_type": "display_data"
    }
   ],
   "source": [
    "fig = plt.figure(figsize=(figsizew,figsizeh))\n",
    "plt.contourf(ideal_grid.longitude,ideal_grid.latitude,sst_jra55_out.sst_jra55.sel(time='2022-06-15').data) #just choosing one time slice\n",
    "plt.title('JRA55 SST (last summer)'); plt.xlabel('Lon'); plt.ylabel('Lat')\n",
    "plt.colorbar().set_label('deg C');"
   ]
  },
  {
   "cell_type": "code",
   "execution_count": null,
   "id": "9c6e97ff-be78-4394-9f5e-d7a2f5b6599b",
   "metadata": {},
   "outputs": [],
   "source": []
  },
  {
   "cell_type": "markdown",
   "id": "78894572",
   "metadata": {},
   "source": [
    "## Salinity (SSS)"
   ]
  },
  {
   "cell_type": "code",
   "execution_count": 13,
   "id": "d469c531",
   "metadata": {},
   "outputs": [],
   "source": [
    "sss = xr.open_mfdataset(data_folder_root+'SSS/originals/EN.4.2.2.f.analysis.g10.*.nc') \n",
    "#sss"
   ]
  },
  {
   "cell_type": "code",
   "execution_count": 14,
   "id": "bbb0879e",
   "metadata": {},
   "outputs": [
    {
     "name": "stdout",
     "output_type": "stream",
     "text": [
      "CPU times: user 47.7 s, sys: 4.23 s, total: 52 s\n",
      "Wall time: 1min 11s\n"
     ]
    }
   ],
   "source": [
    "%%time\n",
    "#effectively ignore the depth dimension because we dont need it\n",
    "sss_nodepth = xr.Dataset({'sss':(['time','lat','lon'],sss.salinity[:,0,:,:].values),'time':(['time'],sss.time.data),'lat':(['lat'],sss.lat.data),'lon':(['lon'],sss.lon.data)})\n",
    "#Note this removes attributes from SSS raw data so we lose some metadata but this is OK for this analysis\n",
    "sss_filtered = sss_nodepth.sel(time=slice(str(processed_start_yearmonth),str(processed_end_yearmonth))) #filter years\n",
    "\n",
    "#Regrid lat/lon\n",
    "sss_regridder = xesmf.Regridder(sss_filtered, ideal_grid, 'bilinear', periodic=True)  #data is already 1x1 but we want to shift coordinates\n",
    "sss_out = sss_regridder(sss_filtered, keep_attrs=True)\n",
    "#sss_out"
   ]
  },
  {
   "cell_type": "code",
   "execution_count": 15,
   "id": "3065324b",
   "metadata": {},
   "outputs": [],
   "source": [
    "sss_out = sss_out.rename({'latitude': 'ylat','longitude': 'xlon'}) #rename to be consistent with prior work\n",
    "sss_out = sss_out.assign_coords(time=ttime) #overwrite time dimension to be midmonth\n",
    "#sss_out = sss_out.assign_coords(time=ttime[:-1]) #you can use this line if SSS hasnt updated and we are missing the last month."
   ]
  },
  {
   "cell_type": "code",
   "execution_count": 16,
   "id": "e4064d4b",
   "metadata": {},
   "outputs": [
    {
     "name": "stdout",
     "output_type": "stream",
     "text": [
      "Cancelling output - SSS_Met-Office-Hadley-Centre_EN422f-g10-analyses_198201-202304.nc already exists in /data/artemis/workspace/ds4114/online_data/SSS/processed/\n"
     ]
    }
   ],
   "source": [
    "output_netcdf_with_date(sss_out, data_folder_root+'SSS/processed/', 'SSS_Met-Office-Hadley-Centre_EN422f-g10-analyses')"
   ]
  },
  {
   "cell_type": "code",
   "execution_count": 17,
   "id": "4021d932",
   "metadata": {},
   "outputs": [
    {
     "data": {
      "image/png": "[encoded data removed]",
      "text/plain": [
       "<Figure size 432x216 with 2 Axes>"
      ]
     },
     "metadata": {
      "needs_background": "light"
     },
     "output_type": "display_data"
    }
   ],
   "source": [
    "fig = plt.figure(figsize=(figsizew,figsizeh))\n",
    "plt.contourf(ideal_grid.longitude,ideal_grid.latitude,sss_out.sss[-1,:,:]) #just choosing latest time slice\n",
    "plt.title('SSS (latest month)'); plt.xlabel('Lon'); plt.ylabel('Lat')\n",
    "plt.colorbar().set_label('g/kg');"
   ]
  },
  {
   "cell_type": "code",
   "execution_count": null,
   "id": "3c248c3f",
   "metadata": {},
   "outputs": [],
   "source": []
  },
  {
   "cell_type": "markdown",
   "id": "43e01a86",
   "metadata": {},
   "source": [
    "## Mixed Layer Depth (MLD)\n",
    "#### deBoyer"
   ]
  },
  {
   "cell_type": "code",
   "execution_count": 188,
   "id": "0ac7738c",
   "metadata": {},
   "outputs": [],
   "source": [
    "mld_ds = xr.open_dataset(data_folder_root+r'MLD/originals/MLD_IFREMER-deBoyer_DT02-c1m_2008.nc', decode_times=False)\n",
    "mld = mld_ds.mld  #just need the mld variable. Data is 2x2 resolution"
   ]
  },
  {
   "cell_type": "code",
   "execution_count": 189,
   "id": "2eb3d78b",
   "metadata": {},
   "outputs": [],
   "source": [
    "#there are strange anomalies in the raw data which we are going to filter out\n",
    "mld_filtered = mld.where(((mld>0)&(mld<5000))) \n",
    "\n",
    "#TODO - Document these next commands\n",
    "mld_filtered2 = np.where(np.isnan(mld_filtered), ma.array(mld_filtered, mask=np.isnan(mld_filtered)).mean(axis=2)[:,:,np.newaxis], mld_filtered)\n",
    "mld_filtered2 = np.where(mld_filtered2==0,np.nan,mld_filtered2)"
   ]
  },
  {
   "cell_type": "code",
   "execution_count": 190,
   "id": "2d7ce20a",
   "metadata": {},
   "outputs": [],
   "source": [
    "mld_in = xr.Dataset({'mld':(['time','lat','lon'],mld_filtered2),'time':(['time'],range(0,12)),'lat':(['lat'],mld_filtered.lat.values),'lon':(['lon'],mld_filtered.lon.values)})\n",
    "\n",
    "mld_regridder = xesmf.Regridder(mld_in, ideal_grid, 'bilinear', periodic=True) \n",
    "mld_out = mld_regridder(mld_filtered2, keep_attrs=True)\n",
    "mld_out = np.where(np.isnan(mld_out),0,mld_out)\n",
    "#mld_out"
   ]
  },
  {
   "cell_type": "code",
   "execution_count": 191,
   "id": "15676287",
   "metadata": {},
   "outputs": [],
   "source": [
    "#we now have 12 months of MLD data, let's replicate for the desired time frame so merging is easier later\n",
    "mld_out_full = np.empty(shape=(len(ttime),180,360)) \n",
    "#now fill array with averaged year\n",
    "for i, m in enumerate(ttime): \n",
    "    mld_out_full[i,:,:] = mld_out[m.month-1,:,:]\n",
    "#mld_out_full"
   ]
  },
  {
   "cell_type": "code",
   "execution_count": 192,
   "id": "0987d611",
   "metadata": {},
   "outputs": [],
   "source": [
    "mld_out_full_xr = xr.Dataset({'mld':([\"time\",\"ylat\",\"xlon\"],mld_out_full.data)},\n",
    "                        coords={'time': (['time'],ttime.values),'ylat':(['ylat'],ideal_grid.latitude.data),'xlon':(['xlon'],ideal_grid.longitude.data)})"
   ]
  },
  {
   "cell_type": "code",
   "execution_count": 23,
   "id": "0d8893f8",
   "metadata": {},
   "outputs": [
    {
     "name": "stdout",
     "output_type": "stream",
     "text": [
      "Cancelling output - MLD_IFREMER-deBoyer_DT02-c1m-1x1_198201-202304.nc already exists in /data/artemis/workspace/ds4114/online_data/MLD/processed/\n"
     ]
    }
   ],
   "source": [
    "output_netcdf_with_date(mld_out_full_xr, data_folder_root+'MLD/processed/', 'MLD_IFREMER-deBoyer_DT02-c1m-1x1')"
   ]
  },
  {
   "cell_type": "code",
   "execution_count": 24,
   "id": "6e9d23ba",
   "metadata": {},
   "outputs": [
    {
     "data": {
      "image/png": "[encoded data removed]",
      "text/plain": [
       "<Figure size 864x216 with 4 Axes>"
      ]
     },
     "metadata": {
      "needs_background": "light"
     },
     "output_type": "display_data"
    }
   ],
   "source": [
    "levelspace = np.linspace(0,560,11)\n",
    "fig,ax = plt.subplots(1,2,figsize=(figsizew*2, figsizeh))\n",
    "x0=ax[0].contourf(ideal_grid.longitude,ideal_grid.latitude,mld_out_full_xr.mld[6,:,:], levels=levelspace) #just choosing a summer month (July)\n",
    "x1=ax[1].contourf(ideal_grid.longitude,ideal_grid.latitude,mld_out_full_xr.mld[0,:,:], levels=levelspace) #just choosing a winter month (Jan)\n",
    "ax[0].set_title(\"MLD July\"); ax[1].set_title(\"MLD Jan\");\n",
    "ax[0].set_xlabel('Lon'); ax[0].set_ylabel('Lat');\n",
    "ax[1].set_xlabel('Lon'); ax[1].set_ylabel('Lat');\n",
    "plt.colorbar(x0, ax=ax[0]).set_label('meters');\n",
    "plt.colorbar(x1, ax=ax[1]).set_label('meters');"
   ]
  },
  {
   "cell_type": "markdown",
   "id": "240cd27a-80e9-422a-9aff-a9f144c991a3",
   "metadata": {},
   "source": [
    "#### UCSD / Argo"
   ]
  },
  {
   "cell_type": "code",
   "execution_count": 214,
   "id": "0e1fad03-5ae8-44aa-988e-9da1013ca110",
   "metadata": {},
   "outputs": [],
   "source": [
    "mld_argo = xr.open_dataset('/data/artemis/workspace/ds4114/online_data/MLD/originals/MLD_UCSD-Argo_mixedlayers-monthlyclim_2022.nc')\n",
    "mld_argo = mld_argo.transpose('iMONTH','iLAT','iLON')"
   ]
  },
  {
   "cell_type": "code",
   "execution_count": 215,
   "id": "fe965a9f-d1fe-4716-8cd3-3abf8f90f5f1",
   "metadata": {},
   "outputs": [],
   "source": [
    "mld_argo_filled = mld_argo.mld_dt_mean.fillna(0)  #replace nan with 0 to be consistent with prior work\n",
    "\n",
    "#Note: The coordinates for this source netCDF are assumed by aligned to the same 1x1 grid\n",
    "    #So regridding not required \n",
    "    #we have 12 months of MLD data, let's replicate for the desired time frame so merging is easier later\n",
    "mld_argo_out_full = np.empty(shape=(len(ttime),180,360)) \n",
    "for i, m in enumerate(ttime): \n",
    "    mld_argo_out_full[i,:,:] = mld_argo_filled[m.month-1,:,:]\n",
    "mld_argo_out_full_xr = xr.Dataset({'mld_argo':([\"time\",\"ylat\",\"xlon\"],mld_argo_out_full.data)},\n",
    "                        coords={'time': (['time'],ttime.values),'ylat':(['ylat'],ideal_grid.latitude.data),'xlon':(['xlon'],ideal_grid.longitude.data)})\n",
    "#mld_out_full_xr"
   ]
  },
  {
   "cell_type": "code",
   "execution_count": 217,
   "id": "ee3ecadc-44a0-40bd-b087-74a5467d91ff",
   "metadata": {},
   "outputs": [
    {
     "name": "stdout",
     "output_type": "stream",
     "text": [
      "Saved MLD_UCSD-Argo_MLD-dt-mean-1x1_198201-202304.nc to /data/artemis/workspace/ds4114/online_data/MLD/processed/\n"
     ]
    }
   ],
   "source": [
    "output_netcdf_with_date(mld_argo_out_full_xr, data_folder_root+'MLD/processed/', 'MLD_UCSD-Argo_MLD-dt-mean-1x1')"
   ]
  },
  {
   "cell_type": "code",
   "execution_count": 216,
   "id": "459e3477-08a7-4c82-93dd-1ad2a655286a",
   "metadata": {},
   "outputs": [
    {
     "data": {
      "image/png": "[encoded data removed]",
      "text/plain": [
       "<Figure size 864x216 with 4 Axes>"
      ]
     },
     "metadata": {
      "needs_background": "light"
     },
     "output_type": "display_data"
    }
   ],
   "source": [
    "levelspace = np.linspace(0,640,11)\n",
    "fig,ax = plt.subplots(1,2,figsize=(figsizew*2, figsizeh))\n",
    "x0=ax[0].contourf(ideal_grid.longitude,ideal_grid.latitude,mld_argo_out_full_xr.mld_argo[6,:,:], levels=levelspace) #just choosing a summer month (July)\n",
    "x1=ax[1].contourf(ideal_grid.longitude,ideal_grid.latitude,mld_argo_out_full_xr.mld_argo[0,:,:], levels=levelspace) #just choosing a winter month (Jan)\n",
    "ax[0].set_title(\"MLD July\"); ax[1].set_title(\"MLD Jan\");\n",
    "ax[0].set_xlabel('Lon'); ax[0].set_ylabel('Lat');\n",
    "ax[1].set_xlabel('Lon'); ax[1].set_ylabel('Lat');\n",
    "plt.colorbar(x0, ax=ax[0]).set_label('meters');\n",
    "plt.colorbar(x1, ax=ax[1]).set_label('meters');"
   ]
  },
  {
   "cell_type": "code",
   "execution_count": null,
   "id": "494de337-2623-41d4-a6f2-5c37f2e77935",
   "metadata": {},
   "outputs": [],
   "source": []
  },
  {
   "cell_type": "markdown",
   "id": "aeaa45cc",
   "metadata": {},
   "source": [
    "## Chlorophyll (CHL)"
   ]
  },
  {
   "cell_type": "raw",
   "id": "2d88b632",
   "metadata": {},
   "source": [
    "#According to the Bennington paper, we fill the missing winter months at the poles by linearly interpolating between the last month observed prior to the winter and the first month observed after winter. Also, for prior to 1998, we use the climatology of Chlorophyll-a calculated from observations we do have.\n",
    "\n",
    "#General Process: \n",
    "#0) combine data and filter time to relevant period\n",
    "#1) group by month to get an 'average' year\n",
    "#2) loop that year into two years so that we can linearly interpolate without boundary issues in Jan/Dec. Only need the middle 12 months.\n",
    "#3) fill in 1982 to 1997 with that averaged year\n",
    "#4) combine with the 1998+ data to get full set and interpolate on full set again to fill missing\n",
    "#5) fill remaining missing with the averaged year \n",
    "#6) regrid\n"
   ]
  },
  {
   "cell_type": "code",
   "execution_count": 25,
   "id": "ee305941",
   "metadata": {},
   "outputs": [],
   "source": [
    "#0) First combine data and filter for the relevant time period. Because CHL data does not have a time dimension in raw data, we need to add it to each file before/during concatenation \n",
    "files = glob.glob(data_folder_root+'CHL/originals/*.nc')\n",
    "chl = xr.concat([add_time_to_globcolour(fl) for fl in files], dim='time')\n",
    "#chl\n",
    "chl_filter = chl.sel(time=slice(str(processed_start_yearmonth),str(processed_end_yearmonth))) "
   ]
  },
  {
   "cell_type": "code",
   "execution_count": 26,
   "id": "b56cae84",
   "metadata": {},
   "outputs": [],
   "source": [
    "#1) Next we group by month to get and 'average' year\n",
    "    #Note that we are using data from the desired time frame to calculate an average year. This means past data will change when more years are added.\n",
    "chl_avg_by_month = chl_filter.CHL1_mean.groupby(\"time.month\").mean(\"time\")  #only need the mean variable\n",
    "#2) Then we loop that year (duplicate) into two years so that we can linearly interpolate without boundary issues in Jan/Dec. We will only need the middle 12 months.\n",
    "chl_looped = np.empty(shape=(24,180,360))  #2 years of data.\n",
    "chl_looped[0:6,:,:] = chl_avg_by_month[6:12,:,:]  #set start of loop to be July to Dec. Winter at the north pole is at the end/start of the year\n",
    "chl_looped[6:18,:,:] = chl_avg_by_month\n",
    "chl_looped[18:24,:,:] = chl_avg_by_month[0:6,:,:]  #set end of loop to be Jan to Jun\n",
    "chl_looped_xr = xr.Dataset({'chl':(['time','lat','lon'],chl_looped)},\n",
    "                       coords={'time':(['time'],range(0,24)),'lat':(['lat'],chl_avg_by_month.lat.values),'lon':(['lon'],chl_avg_by_month.lon.values)})\n",
    "chl_looped_interpolated = chl_looped_xr.chl.interpolate_na(dim='time',method='linear',limit=7)\n",
    "chl_avg_year = chl_looped_interpolated[6:18,:,:]   #the full year we interpolated is in the middle. Starts in Jan."
   ]
  },
  {
   "cell_type": "code",
   "execution_count": 27,
   "id": "62f7c946",
   "metadata": {},
   "outputs": [],
   "source": [
    "#3) Now we fill in 1982 to 1997 with that averaged year\n",
    "earliest_chl_date = chl.time.min().data.astype('datetime64[s]').item()\n",
    "chl_missing_years = np.empty(shape=(sum(ttime < earliest_chl_date),180,360))  #create empty array of size equal to number of missing months\n",
    "chl_missing_years = xr.DataArray(chl_missing_years, coords=dict(time=ttime[ttime < earliest_chl_date], lat=chl_avg_year.lat, lon=chl_avg_year.lon), dims=[\"time\", \"lat\", \"lon\"]) #make it an xr\n",
    "chl_avg_fullset = np.empty(shape=(len(ttime),180,360))   #this is just the average which we will use later to fill missing holes from interpolation\n",
    "#now fill array with averaged year\n",
    "for i, m in enumerate(ttime):   #loop through months between start and end date\n",
    "    chl_avg_fullset[i,:,:] = chl_avg_year[m.month-1,:,:]\n",
    "    if m < earliest_chl_date: \n",
    "        chl_missing_years[i,:,:] = chl_avg_year[m.month-1,:,:]\n",
    "#chl_missing_years.shape"
   ]
  },
  {
   "cell_type": "code",
   "execution_count": 28,
   "id": "3fdabcea",
   "metadata": {},
   "outputs": [],
   "source": [
    "#4) Next, combine the pre-1997 set with the 1998+ data to get a full set. Then interpolate on full set again to fill missing points.\n",
    "chl_filter_with_missing = xr.concat([chl_missing_years, chl_filter.CHL1_mean], dim='time')\n",
    "chl_filter_interpolate = chl_filter_with_missing.interpolate_na(dim='time',method='linear',limit=7)"
   ]
  },
  {
   "cell_type": "code",
   "execution_count": 29,
   "id": "335e8dba",
   "metadata": {},
   "outputs": [],
   "source": [
    "#5) For any remaining missing values that could not be interpolated, we fill with the averaged climatology\n",
    "chl_filter_interpolate_xr = xr.Dataset({'chl':(['time','lat','lon'],chl_filter_interpolate.data)  #make as a dataset so we can use fillna\n",
    "                                       #,'clim_repeat':(['time','lat','lon'], chl_avg_fullset)    #This field was used in a prior version of code but is not required\n",
    "                            }, coords={'time':(['time'],chl_filter_interpolate.time.values),'lat':(['lat'],chl_filter_interpolate.lat.values),'lon':(['lon'],chl_filter_interpolate.lon.values)})\n",
    "chl_filter_final = chl_filter_interpolate_xr.fillna(chl_avg_fullset) "
   ]
  },
  {
   "cell_type": "code",
   "execution_count": 30,
   "id": "86f71fd9",
   "metadata": {},
   "outputs": [],
   "source": [
    "#6) Regrid \n",
    "chl_regridder = xesmf.Regridder(chl_filter_final, ideal_grid, 'bilinear', periodic=True)\n",
    "chl_out = chl_regridder(chl_filter_final, keep_attrs=True)\n",
    "chl_out = chl_out.rename({'latitude': 'ylat','longitude': 'xlon'}) \n",
    "chl_out['chl'].attrs['description'] = \"Interpolated linearly between months, climatology prior to 1998-01\"  \n",
    "chl_out['chl'].attrs['units'] = \"mg / m3\"\n",
    "#chl_out"
   ]
  },
  {
   "cell_type": "code",
   "execution_count": 31,
   "id": "c0d79a52",
   "metadata": {},
   "outputs": [
    {
     "name": "stdout",
     "output_type": "stream",
     "text": [
      "Cancelling output - CHL_ARI-ST-GlobColour_L3m-GLOB-100-merged-GSM-CHL1_198201-202304.nc already exists in /data/artemis/workspace/ds4114/online_data/CHL/processed/\n"
     ]
    }
   ],
   "source": [
    "output_netcdf_with_date(chl_out, data_folder_root+'CHL/processed/', 'CHL_ARI-ST-GlobColour_L3m-GLOB-100-merged-GSM-CHL1', False)"
   ]
  },
  {
   "cell_type": "code",
   "execution_count": 32,
   "id": "417eb4a2",
   "metadata": {},
   "outputs": [
    {
     "data": {
      "image/png": "[encoded data removed]",
      "text/plain": [
       "<Figure size 432x216 with 2 Axes>"
      ]
     },
     "metadata": {
      "needs_background": "light"
     },
     "output_type": "display_data"
    }
   ],
   "source": [
    "fig = plt.figure(figsize=(figsizew,figsizeh))\n",
    "plt.contourf(ideal_grid.longitude,ideal_grid.latitude,np.ma.log10(chl_out.chl[12*20+6,:,:]))  #just one summer month; log scale to make more readable\n",
    "plt.title('CHL (July)'); plt.xlabel('Lon'); plt.ylabel('Lat')\n",
    "plt.colorbar().set_label('mg/m3 log scale');"
   ]
  },
  {
   "cell_type": "code",
   "execution_count": null,
   "id": "53123e6c",
   "metadata": {},
   "outputs": [],
   "source": []
  },
  {
   "cell_type": "markdown",
   "id": "8da4ecf2",
   "metadata": {},
   "source": [
    "## Sea Level Pressure (SLP)"
   ]
  },
  {
   "cell_type": "code",
   "execution_count": 17,
   "id": "b13a8c9c",
   "metadata": {},
   "outputs": [],
   "source": [
    "era5 = xr.open_mfdataset(data_folder_root+r'SLP/originals/SLP_ECMWF_ERA5-monthly-reanalysis-MSLP_*.nc') "
   ]
  },
  {
   "cell_type": "code",
   "execution_count": 18,
   "id": "4a0d5741",
   "metadata": {},
   "outputs": [
    {
     "name": "stdout",
     "output_type": "stream",
     "text": [
      "CPU times: user 14 s, sys: 230 ms, total: 14.2 s\n",
      "Wall time: 14.2 s\n"
     ]
    }
   ],
   "source": [
    "%%time\n",
    "#Regrid era5\n",
    "mslp_highres = era5.sel(expver=1).msl/100  #do do not need the experimental/recent data because socat is only up till end of the prior yer. Also Pa to HPa. \n",
    "    #Note the expver variable in era5 indicates new experimental data: #https://confluence.ecmwf.int/pages/viewpage.action?pageId=173385064\n",
    "    #Data in recent 3 months will be blank with expver = 1 but this is expected and filtered next\n",
    "mslp_highres = mslp_highres.sel(time=slice(str(processed_start_yearmonth),str(processed_end_yearmonth))) #already monthly so select desired years\n",
    "mslp_highres = xr.Dataset({'mslp':(['time','latitude','longitude'],mslp_highres.data),'time':(['time'],mslp_highres.time.data),'latitude':(['latitude'],mslp_highres.latitude.data),'longitude':(['longitude'],mslp_highres.longitude.data)})\n",
    "mslp_highres_regridder = xesmf.Regridder(mslp_highres, ideal_grid, 'bilinear', periodic=True) #See note above about bilinear vs conservative\n",
    "mslp_out = mslp_highres_regridder(mslp_highres, keep_attrs=False)\n",
    "#mslp_out"
   ]
  },
  {
   "cell_type": "code",
   "execution_count": 19,
   "id": "df068ad1-51b3-4f35-8d7e-781932455abe",
   "metadata": {},
   "outputs": [],
   "source": [
    "mslp_out = mslp_out.rename({'latitude': 'ylat','longitude': 'xlon'}) #rename to be consistent with prior work\n",
    "mslp_out = mslp_out.assign_coords(time=ttime) #overwrite time dimension to be midmonth\n",
    "mslp_out.mslp.attrs['units'] = 'hPa'"
   ]
  },
  {
   "cell_type": "code",
   "execution_count": 87,
   "id": "ce140348",
   "metadata": {},
   "outputs": [
    {
     "name": "stdout",
     "output_type": "stream",
     "text": [
      "Saved SLP_ECMWF_ERA5-monthly-reanalysis-1x1-MSLP_198201-202304.nc to /data/artemis/workspace/ds4114/online_data/SLP/processed/\n"
     ]
    }
   ],
   "source": [
    "output_netcdf_with_date(mslp_out, data_folder_root+'SLP/processed/', 'SLP_ECMWF_ERA5-monthly-reanalysis-1x1-MSLP')"
   ]
  },
  {
   "cell_type": "code",
   "execution_count": 91,
   "id": "4ffbc48a-8a20-47d9-a594-e6d05d047072",
   "metadata": {},
   "outputs": [
    {
     "data": {
      "image/png": "[encoded data removed]",
      "text/plain": [
       "<Figure size 432x216 with 2 Axes>"
      ]
     },
     "metadata": {
      "needs_background": "light"
     },
     "output_type": "display_data"
    }
   ],
   "source": [
    "fig = plt.figure(figsize=(figsizew,figsizeh))\n",
    "plt.contourf(ideal_grid.longitude,ideal_grid.latitude,mslp_out.mslp.sel(time='2022-12-15').data) #just choosing one month from prior year\n",
    "plt.title('SLP (last month of prior year)'); plt.xlabel('Lon'); plt.ylabel('Lat')\n",
    "plt.colorbar().set_label('hPa');"
   ]
  },
  {
   "cell_type": "code",
   "execution_count": null,
   "id": "0a903eea-bd8f-493d-826c-cc4a1e35579f",
   "metadata": {},
   "outputs": [],
   "source": []
  },
  {
   "cell_type": "markdown",
   "id": "23101b55",
   "metadata": {},
   "source": [
    "## pCO2\n",
    "### fCO2 SOCAT"
   ]
  },
  {
   "cell_type": "raw",
   "id": "6ecec40c",
   "metadata": {},
   "source": [
    "General Process:\n",
    "1. Ingest SLP and fCO2\n",
    "2. Regrid and align to time frame\n",
    "3. Calculate pCO2 from these variables\n",
    "4. Compile new xarray dataset and output"
   ]
  },
  {
   "cell_type": "code",
   "execution_count": 219,
   "id": "74e9d7c1",
   "metadata": {
    "scrolled": true
   },
   "outputs": [],
   "source": [
    "socat = xr.open_dataset(data_folder_root+r'pCO2/originals/fCO2_SOCOVV_SOCAT-gridded-monthly_2022.nc') "
   ]
  },
  {
   "cell_type": "code",
   "execution_count": 220,
   "id": "a7db8aca",
   "metadata": {},
   "outputs": [],
   "source": [
    "#get relevant variables and filter for desired years \n",
    "co2_processed_end_yearmonth = socat.tmnth.max().data.astype('datetime64[s]').item().strftime('%Y-%m') #Note that fCO2 is only up til 2 years ago if (released every June)\n",
    "fco2 = socat.fco2_ave_weighted\n",
    "fco2 = fco2.sel(tmnth=slice(str(processed_start_yearmonth),str(co2_processed_end_yearmonth))) \n",
    "fco2_sst = socat.sst_ave_weighted\n",
    "fco2_sst = fco2_sst.sel(tmnth=slice(str(processed_start_yearmonth),str(co2_processed_end_yearmonth)))\n",
    "fco2_mslp = mslp_out.mslp  #from section above\n",
    "fco2_mslp = fco2_mslp.sel(time=slice(str(processed_start_yearmonth),str(co2_processed_end_yearmonth)))"
   ]
  },
  {
   "cell_type": "code",
   "execution_count": 221,
   "id": "9cf3dd0e",
   "metadata": {},
   "outputs": [],
   "source": [
    "#For anlaysis, we only need fco2; however we are including a pco2 variable for additional validation and testing\n",
    "    #example: fCO2_to_pCO2(380, 8) #381.5\n",
    "pco2 = fCO2_to_pCO2(fco2, fco2_sst, fco2_mslp, tempEQ_C=None)\n",
    "pco2 = np.where((pco2>200)&(pco2<650),pco2,np.nan) #where socat pco2 values are <200 and >650 we are changing to nans as a source of quality control"
   ]
  },
  {
   "cell_type": "code",
   "execution_count": 222,
   "id": "06e6508e",
   "metadata": {},
   "outputs": [],
   "source": [
    "#Realign time to our grid for each available month (ex shift from 16th to 15th for consistency)\n",
    "fco2_ttime = ttime[pd.DataFrame(ttime,columns=['t']).t.between(fco2.tmnth.min().data.astype('datetime64[s]').item().strftime('%Y-%m'), fco2.tmnth.max().data.astype('datetime64[s]').item(), inclusive='both')]\n",
    "    #Alternatively can use this: fco2_ttime = pd.date_range(start=fco2.tmnth.min().item(), end=fco2.tmnth.max().item(),freq='MS') + np.timedelta64(14, 'D')\n",
    "#fco2_ttime"
   ]
  },
  {
   "cell_type": "code",
   "execution_count": 223,
   "id": "c479775d",
   "metadata": {},
   "outputs": [],
   "source": [
    "pco2_out = xr.Dataset(  {\n",
    "                        'pco2':([\"time\",\"ylat\",\"xlon\"],pco2.data),\n",
    "                        #'socat_mask':([\"time\",\"ylat\",\"xlon\"],np.where(~np.isnan(pco2),1,np.nan)),  #Prior code included additional variables which are not needed\n",
    "                        #'socat_sst':([\"time\",\"ylat\",\"xlon\"],fco2_sst.data),\n",
    "                        #'mslp':([\"time\",\"ylat\",\"xlon\"],fco2_mslp.data),\n",
    "                        'fco2':([\"time\",\"ylat\",\"xlon\"],fco2.data)\n",
    "                        },\n",
    "                        coords={'time': (['time'],fco2_ttime.values),\n",
    "                          'ylat': (['ylat'],fco2.ylat.data),\n",
    "                          'xlon': (['xlon'],fco2.xlon.data)}\n",
    "                    )\n",
    "pco2_out.pco2.attrs['units'] = 'uatm'\n",
    "pco2_out.pco2.attrs['description'] = 'uses fco2 (weighted), sst (weighted) and MSLP to convert to pCO2 via fCO2_to_pCO2 script'\n",
    "pco2_out.pco2.attrs['description2'] = 'socat pco2 values <200 and >650 have been changed to nans as a source of quality control' \n",
    "#pco2_out.socat_sst.attrs['units'] = 'deg C'\n",
    "#pco2_out.mslp.attrs['units'] = 'hPa'\n",
    "pco2_out.fco2.attrs['units'] = 'uatm'\n",
    "#pco2_out"
   ]
  },
  {
   "cell_type": "code",
   "execution_count": null,
   "id": "aaf51d3b-46c4-4238-8ee0-69a28ff167da",
   "metadata": {},
   "outputs": [],
   "source": [
    "output_netcdf_with_date(pco2_out, data_folder_root+'pCO2/processed/', 'pCO2_LEAP_SOCAT-ERA5-weighted')"
   ]
  },
  {
   "cell_type": "code",
   "execution_count": 43,
   "id": "a6df0a72",
   "metadata": {},
   "outputs": [
    {
     "name": "stderr",
     "output_type": "stream",
     "text": [
      "<ipython-input-43-972c11a5379c>:2: RuntimeWarning: All-NaN axis encountered\n",
      "  plt.contourf(ideal_grid.longitude,ideal_grid.latitude,np.nanmax(pco2_out.pco2, axis=0))\n"
     ]
    },
    {
     "data": {
      "image/png": "[encoded data removed]",
      "text/plain": [
       "<Figure size 432x216 with 2 Axes>"
      ]
     },
     "metadata": {
      "needs_background": "light"
     },
     "output_type": "display_data"
    }
   ],
   "source": [
    "fig = plt.figure(figsize=(figsizew,figsizeh))\n",
    "plt.contourf(ideal_grid.longitude,ideal_grid.latitude,np.nanmax(pco2_out.fco2, axis=0)) \n",
    "plt.title('Max fCO2 (across time)'); plt.xlabel('Lon'); plt.ylabel('Lat')\n",
    "plt.colorbar().set_label('uatm');"
   ]
  },
  {
   "cell_type": "code",
   "execution_count": null,
   "id": "97e7342a",
   "metadata": {},
   "outputs": [],
   "source": []
  },
  {
   "cell_type": "markdown",
   "id": "6337dc3d-872d-4f4b-803a-95b75bddeebd",
   "metadata": {},
   "source": [
    "### Coastal Fill pCO2"
   ]
  },
  {
   "cell_type": "code",
   "execution_count": 36,
   "id": "ec3170e8-4cd7-47ea-bd09-30b529327ef2",
   "metadata": {},
   "outputs": [],
   "source": [
    "coastal_clim = xr.open_dataset(data_folder_root + '/pCO2/originals/pCO2_NOAA-NCEI_MPI-ULB-SOM-FFN_1988-2020.nc')"
   ]
  },
  {
   "cell_type": "code",
   "execution_count": 37,
   "id": "1a4eaab4-442c-4767-a82d-73a86bf83363",
   "metadata": {},
   "outputs": [
    {
     "data": {
      "text/html": [
       "<div><svg style=\"position: absolute; width: 0; height: 0; overflow: hidden\">\n",
       "<defs>\n",
       "<symbol id=\"icon-database\" viewBox=\"0 0 32 32\">\n",
       "<path d=\"M16 0c-8.837 0-16 2.239-16 5v4c0 2.761 7.163 5 16 5s16-2.239 16-5v-4c0-2.761-7.163-5-16-5z\"></path>\n",
       "<path d=\"M16 17c-8.837 0-16-2.239-16-5v6c0 2.761 7.163 5 16 5s16-2.239 16-5v-6c0 2.761-7.163 5-16 5z\"></path>\n",
       "<path d=\"M16 26c-8.837 0-16-2.239-16-5v6c0 2.761 7.163 5 16 5s16-2.239 16-5v-6c0 2.761-7.163 5-16 5z\"></path>\n",
       "</symbol>\n",
       "<symbol id=\"icon-file-text2\" viewBox=\"0 0 32 32\">\n",
       "<path d=\"M28.681 7.159c-0.694-0.947-1.662-2.053-2.724-3.116s-2.169-2.030-3.116-2.724c-1.612-1.182-2.393-1.319-2.841-1.319h-15.5c-1.378 0-2.5 1.121-2.5 2.5v27c0 1.378 1.122 2.5 2.5 2.5h23c1.378 0 2.5-1.122 2.5-2.5v-19.5c0-0.448-0.137-1.23-1.319-2.841zM24.543 5.457c0.959 0.959 1.712 1.825 2.268 2.543h-4.811v-4.811c0.718 0.556 1.584 1.309 2.543 2.268zM28 29.5c0 0.271-0.229 0.5-0.5 0.5h-23c-0.271 0-0.5-0.229-0.5-0.5v-27c0-0.271 0.229-0.5 0.5-0.5 0 0 15.499-0 15.5 0v7c0 0.552 0.448 1 1 1h7v19.5z\"></path>\n",
       "<path d=\"M23 26h-14c-0.552 0-1-0.448-1-1s0.448-1 1-1h14c0.552 0 1 0.448 1 1s-0.448 1-1 1z\"></path>\n",
       "<path d=\"M23 22h-14c-0.552 0-1-0.448-1-1s0.448-1 1-1h14c0.552 0 1 0.448 1 1s-0.448 1-1 1z\"></path>\n",
       "<path d=\"M23 18h-14c-0.552 0-1-0.448-1-1s0.448-1 1-1h14c0.552 0 1 0.448 1 1s-0.448 1-1 1z\"></path>\n",
       "</symbol>\n",
       "</defs>\n",
       "</svg>\n",
       "<style>/* CSS stylesheet for displaying xarray objects in jupyterlab.\n",
       " *\n",
       " */\n",
       "\n",
       ":root {\n",
       "  --xr-font-color0: var(--jp-content-font-color0, rgba(0, 0, 0, 1));\n",
       "  --xr-font-color2: var(--jp-content-font-color2, rgba(0, 0, 0, 0.54));\n",
       "  --xr-font-color3: var(--jp-content-font-color3, rgba(0, 0, 0, 0.38));\n",
       "  --xr-border-color: var(--jp-border-color2, #e0e0e0);\n",
       "  --xr-disabled-color: var(--jp-layout-color3, #bdbdbd);\n",
       "  --xr-background-color: var(--jp-layout-color0, white);\n",
       "  --xr-background-color-row-even: var(--jp-layout-color1, white);\n",
       "  --xr-background-color-row-odd: var(--jp-layout-color2, #eeeeee);\n",
       "}\n",
       "\n",
       "html[theme=dark],\n",
       "body.vscode-dark {\n",
       "  --xr-font-color0: rgba(255, 255, 255, 1);\n",
       "  --xr-font-color2: rgba(255, 255, 255, 0.54);\n",
       "  --xr-font-color3: rgba(255, 255, 255, 0.38);\n",
       "  --xr-border-color: #1F1F1F;\n",
       "  --xr-disabled-color: #515151;\n",
       "  --xr-background-color: #111111;\n",
       "  --xr-background-color-row-even: #111111;\n",
       "  --xr-background-color-row-odd: #313131;\n",
       "}\n",
       "\n",
       ".xr-wrap {\n",
       "  display: block;\n",
       "  min-width: 300px;\n",
       "  max-width: 700px;\n",
       "}\n",
       "\n",
       ".xr-text-repr-fallback {\n",
       "  /* fallback to plain text repr when CSS is not injected (untrusted notebook) */\n",
       "  display: none;\n",
       "}\n",
       "\n",
       ".xr-header {\n",
       "  padding-top: 6px;\n",
       "  padding-bottom: 6px;\n",
       "  margin-bottom: 4px;\n",
       "  border-bottom: solid 1px var(--xr-border-color);\n",
       "}\n",
       "\n",
       ".xr-header > div,\n",
       ".xr-header > ul {\n",
       "  display: inline;\n",
       "  margin-top: 0;\n",
       "  margin-bottom: 0;\n",
       "}\n",
       "\n",
       ".xr-obj-type,\n",
       ".xr-array-name {\n",
       "  margin-left: 2px;\n",
       "  margin-right: 10px;\n",
       "}\n",
       "\n",
       ".xr-obj-type {\n",
       "  color: var(--xr-font-color2);\n",
       "}\n",
       "\n",
       ".xr-sections {\n",
       "  padding-left: 0 !important;\n",
       "  display: grid;\n",
       "  grid-template-columns: 150px auto auto 1fr 20px 20px;\n",
       "}\n",
       "\n",
       ".xr-section-item {\n",
       "  display: contents;\n",
       "}\n",
       "\n",
       ".xr-section-item input {\n",
       "  display: none;\n",
       "}\n",
       "\n",
       ".xr-section-item input + label {\n",
       "  color: var(--xr-disabled-color);\n",
       "}\n",
       "\n",
       ".xr-section-item input:enabled + label {\n",
       "  cursor: pointer;\n",
       "  color: var(--xr-font-color2);\n",
       "}\n",
       "\n",
       ".xr-section-item input:enabled + label:hover {\n",
       "  color: var(--xr-font-color0);\n",
       "}\n",
       "\n",
       ".xr-section-summary {\n",
       "  grid-column: 1;\n",
       "  color: var(--xr-font-color2);\n",
       "  font-weight: 500;\n",
       "}\n",
       "\n",
       ".xr-section-summary > span {\n",
       "  display: inline-block;\n",
       "  padding-left: 0.5em;\n",
       "}\n",
       "\n",
       ".xr-section-summary-in:disabled + label {\n",
       "  color: var(--xr-font-color2);\n",
       "}\n",
       "\n",
       ".xr-section-summary-in + label:before {\n",
       "  display: inline-block;\n",
       "  content: '►';\n",
       "  font-size: 11px;\n",
       "  width: 15px;\n",
       "  text-align: center;\n",
       "}\n",
       "\n",
       ".xr-section-summary-in:disabled + label:before {\n",
       "  color: var(--xr-disabled-color);\n",
       "}\n",
       "\n",
       ".xr-section-summary-in:checked + label:before {\n",
       "  content: '▼';\n",
       "}\n",
       "\n",
       ".xr-section-summary-in:checked + label > span {\n",
       "  display: none;\n",
       "}\n",
       "\n",
       ".xr-section-summary,\n",
       ".xr-section-inline-details {\n",
       "  padding-top: 4px;\n",
       "  padding-bottom: 4px;\n",
       "}\n",
       "\n",
       ".xr-section-inline-details {\n",
       "  grid-column: 2 / -1;\n",
       "}\n",
       "\n",
       ".xr-section-details {\n",
       "  display: none;\n",
       "  grid-column: 1 / -1;\n",
       "  margin-bottom: 5px;\n",
       "}\n",
       "\n",
       ".xr-section-summary-in:checked ~ .xr-section-details {\n",
       "  display: contents;\n",
       "}\n",
       "\n",
       ".xr-array-wrap {\n",
       "  grid-column: 1 / -1;\n",
       "  display: grid;\n",
       "  grid-template-columns: 20px auto;\n",
       "}\n",
       "\n",
       ".xr-array-wrap > label {\n",
       "  grid-column: 1;\n",
       "  vertical-align: top;\n",
       "}\n",
       "\n",
       ".xr-preview {\n",
       "  color: var(--xr-font-color3);\n",
       "}\n",
       "\n",
       ".xr-array-preview,\n",
       ".xr-array-data {\n",
       "  padding: 0 5px !important;\n",
       "  grid-column: 2;\n",
       "}\n",
       "\n",
       ".xr-array-data,\n",
       ".xr-array-in:checked ~ .xr-array-preview {\n",
       "  display: none;\n",
       "}\n",
       "\n",
       ".xr-array-in:checked ~ .xr-array-data,\n",
       ".xr-array-preview {\n",
       "  display: inline-block;\n",
       "}\n",
       "\n",
       ".xr-dim-list {\n",
       "  display: inline-block !important;\n",
       "  list-style: none;\n",
       "  padding: 0 !important;\n",
       "  margin: 0;\n",
       "}\n",
       "\n",
       ".xr-dim-list li {\n",
       "  display: inline-block;\n",
       "  padding: 0;\n",
       "  margin: 0;\n",
       "}\n",
       "\n",
       ".xr-dim-list:before {\n",
       "  content: '(';\n",
       "}\n",
       "\n",
       ".xr-dim-list:after {\n",
       "  content: ')';\n",
       "}\n",
       "\n",
       ".xr-dim-list li:not(:last-child):after {\n",
       "  content: ',';\n",
       "  padding-right: 5px;\n",
       "}\n",
       "\n",
       ".xr-has-index {\n",
       "  font-weight: bold;\n",
       "}\n",
       "\n",
       ".xr-var-list,\n",
       ".xr-var-item {\n",
       "  display: contents;\n",
       "}\n",
       "\n",
       ".xr-var-item > div,\n",
       ".xr-var-item label,\n",
       ".xr-var-item > .xr-var-name span {\n",
       "  background-color: var(--xr-background-color-row-even);\n",
       "  margin-bottom: 0;\n",
       "}\n",
       "\n",
       ".xr-var-item > .xr-var-name:hover span {\n",
       "  padding-right: 5px;\n",
       "}\n",
       "\n",
       ".xr-var-list > li:nth-child(odd) > div,\n",
       ".xr-var-list > li:nth-child(odd) > label,\n",
       ".xr-var-list > li:nth-child(odd) > .xr-var-name span {\n",
       "  background-color: var(--xr-background-color-row-odd);\n",
       "}\n",
       "\n",
       ".xr-var-name {\n",
       "  grid-column: 1;\n",
       "}\n",
       "\n",
       ".xr-var-dims {\n",
       "  grid-column: 2;\n",
       "}\n",
       "\n",
       ".xr-var-dtype {\n",
       "  grid-column: 3;\n",
       "  text-align: right;\n",
       "  color: var(--xr-font-color2);\n",
       "}\n",
       "\n",
       ".xr-var-preview {\n",
       "  grid-column: 4;\n",
       "}\n",
       "\n",
       ".xr-var-name,\n",
       ".xr-var-dims,\n",
       ".xr-var-dtype,\n",
       ".xr-preview,\n",
       ".xr-attrs dt {\n",
       "  white-space: nowrap;\n",
       "  overflow: hidden;\n",
       "  text-overflow: ellipsis;\n",
       "  padding-right: 10px;\n",
       "}\n",
       "\n",
       ".xr-var-name:hover,\n",
       ".xr-var-dims:hover,\n",
       ".xr-var-dtype:hover,\n",
       ".xr-attrs dt:hover {\n",
       "  overflow: visible;\n",
       "  width: auto;\n",
       "  z-index: 1;\n",
       "}\n",
       "\n",
       ".xr-var-attrs,\n",
       ".xr-var-data {\n",
       "  display: none;\n",
       "  background-color: var(--xr-background-color) !important;\n",
       "  padding-bottom: 5px !important;\n",
       "}\n",
       "\n",
       ".xr-var-attrs-in:checked ~ .xr-var-attrs,\n",
       ".xr-var-data-in:checked ~ .xr-var-data {\n",
       "  display: block;\n",
       "}\n",
       "\n",
       ".xr-var-data > table {\n",
       "  float: right;\n",
       "}\n",
       "\n",
       ".xr-var-name span,\n",
       ".xr-var-data,\n",
       ".xr-attrs {\n",
       "  padding-left: 25px !important;\n",
       "}\n",
       "\n",
       ".xr-attrs,\n",
       ".xr-var-attrs,\n",
       ".xr-var-data {\n",
       "  grid-column: 1 / -1;\n",
       "}\n",
       "\n",
       "dl.xr-attrs {\n",
       "  padding: 0;\n",
       "  margin: 0;\n",
       "  display: grid;\n",
       "  grid-template-columns: 125px auto;\n",
       "}\n",
       "\n",
       ".xr-attrs dt,\n",
       ".xr-attrs dd {\n",
       "  padding: 0;\n",
       "  margin: 0;\n",
       "  float: left;\n",
       "  padding-right: 10px;\n",
       "  width: auto;\n",
       "}\n",
       "\n",
       ".xr-attrs dt {\n",
       "  font-weight: normal;\n",
       "  grid-column: 1;\n",
       "}\n",
       "\n",
       ".xr-attrs dt:hover span {\n",
       "  display: inline-block;\n",
       "  background: var(--xr-background-color);\n",
       "  padding-right: 10px;\n",
       "}\n",
       "\n",
       ".xr-attrs dd {\n",
       "  grid-column: 2;\n",
       "  white-space: pre-wrap;\n",
       "  word-break: break-all;\n",
       "}\n",
       "\n",
       ".xr-icon-database,\n",
       ".xr-icon-file-text2 {\n",
       "  display: inline-block;\n",
       "  vertical-align: middle;\n",
       "  width: 1em;\n",
       "  height: 1.5em !important;\n",
       "  stroke-width: 0;\n",
       "  stroke: currentColor;\n",
       "  fill: currentColor;\n",
       "}\n",
       "</style><pre class='xr-text-repr-fallback'>&lt;xarray.Dataset&gt;\n",
       "Dimensions:    (latitude: 180, longitude: 360, time: 12)\n",
       "Coordinates:\n",
       "  * time       (time) int32 1 2 3 4 5 6 7 8 9 10 11 12\n",
       "  * longitude  (longitude) float64 -179.5 -178.5 -177.5 ... 177.5 178.5 179.5\n",
       "  * latitude   (latitude) float64 -89.5 -88.5 -87.5 -86.5 ... 87.5 88.5 89.5\n",
       "Data variables:\n",
       "    pco2       (time, latitude, longitude) float32 nan nan nan ... 311.5 311.6\n",
       "Attributes:\n",
       "    institution:    Max Planck Institute for Meteorology, Université Libre Br...\n",
       "    institude_id:   MPI-M, ULB\n",
       "    model_id:       SOM-FFN\n",
       "    run_id:         merged_clim\n",
       "    contact:        Peter Landschutzer (Peter.Landschuetzer@mpimet.mpg.de)\n",
       "    creation_date:  2020-03-26\n",
       "    regrid_method:  conservative</pre><div class='xr-wrap' hidden><div class='xr-header'><div class='xr-obj-type'>xarray.Dataset</div></div><ul class='xr-sections'><li class='xr-section-item'><input id='section-8870671e-386c-40b3-8aba-365af2012888' class='xr-section-summary-in' type='checkbox' disabled ><label for='section-8870671e-386c-40b3-8aba-365af2012888' class='xr-section-summary'  title='Expand/collapse section'>Dimensions:</label><div class='xr-section-inline-details'><ul class='xr-dim-list'><li><span class='xr-has-index'>latitude</span>: 180</li><li><span class='xr-has-index'>longitude</span>: 360</li><li><span class='xr-has-index'>time</span>: 12</li></ul></div><div class='xr-section-details'></div></li><li class='xr-section-item'><input id='section-54af01cc-5c01-48e6-9677-5c0670075e97' class='xr-section-summary-in' type='checkbox'  checked><label for='section-54af01cc-5c01-48e6-9677-5c0670075e97' class='xr-section-summary' >Coordinates: <span>(3)</span></label><div class='xr-section-inline-details'></div><div class='xr-section-details'><ul class='xr-var-list'><li class='xr-var-item'><div class='xr-var-name'><span class='xr-has-index'>time</span></div><div class='xr-var-dims'>(time)</div><div class='xr-var-dtype'>int32</div><div class='xr-var-preview xr-preview'>1 2 3 4 5 6 7 8 9 10 11 12</div><input id='attrs-d01a06ab-4ca0-4364-ad49-c0f33ae730c4' class='xr-var-attrs-in' type='checkbox' ><label for='attrs-d01a06ab-4ca0-4364-ad49-c0f33ae730c4' title='Show/Hide attributes'><svg class='icon xr-icon-file-text2'><use xlink:href='#icon-file-text2'></use></svg></label><input id='data-72dbea20-e5bb-4c68-8ba9-c18e9ecdc493' class='xr-var-data-in' type='checkbox'><label for='data-72dbea20-e5bb-4c68-8ba9-c18e9ecdc493' title='Show/Hide data repr'><svg class='icon xr-icon-database'><use xlink:href='#icon-database'></use></svg></label><div class='xr-var-attrs'><dl class='xr-attrs'><dt><span>units :</span></dt><dd>month of year</dd><dt><span>axis :</span></dt><dd>T</dd><dt><span>long_name :</span></dt><dd>time</dd><dt><span>standard_name :</span></dt><dd>time</dd></dl></div><div class='xr-var-data'><pre>array([ 1,  2,  3,  4,  5,  6,  7,  8,  9, 10, 11, 12], dtype=int32)</pre></div></li><li class='xr-var-item'><div class='xr-var-name'><span class='xr-has-index'>longitude</span></div><div class='xr-var-dims'>(longitude)</div><div class='xr-var-dtype'>float64</div><div class='xr-var-preview xr-preview'>-179.5 -178.5 ... 178.5 179.5</div><input id='attrs-5e34ab27-35df-407a-91c7-435e54f47403' class='xr-var-attrs-in' type='checkbox' disabled><label for='attrs-5e34ab27-35df-407a-91c7-435e54f47403' title='Show/Hide attributes'><svg class='icon xr-icon-file-text2'><use xlink:href='#icon-file-text2'></use></svg></label><input id='data-e50f4efc-6997-489c-8a2d-2f289b2701bf' class='xr-var-data-in' type='checkbox'><label for='data-e50f4efc-6997-489c-8a2d-2f289b2701bf' title='Show/Hide data repr'><svg class='icon xr-icon-database'><use xlink:href='#icon-database'></use></svg></label><div class='xr-var-attrs'><dl class='xr-attrs'></dl></div><div class='xr-var-data'><pre>array([-179.5, -178.5, -177.5, -176.5, -175.5, -174.5, -173.5, -172.5,\n",
       "       -171.5, -170.5, -169.5, -168.5, -167.5, -166.5, -165.5, -164.5,\n",
       "       -163.5, -162.5, -161.5, -160.5, -159.5, -158.5, -157.5, -156.5,\n",
       "       -155.5, -154.5, -153.5, -152.5, -151.5, -150.5, -149.5, -148.5,\n",
       "       -147.5, -146.5, -145.5, -144.5, -143.5, -142.5, -141.5, -140.5,\n",
       "       -139.5, -138.5, -137.5, -136.5, -135.5, -134.5, -133.5, -132.5,\n",
       "       -131.5, -130.5, -129.5, -128.5, -127.5, -126.5, -125.5, -124.5,\n",
       "       -123.5, -122.5, -121.5, -120.5, -119.5, -118.5, -117.5, -116.5,\n",
       "       -115.5, -114.5, -113.5, -112.5, -111.5, -110.5, -109.5, -108.5,\n",
       "       -107.5, -106.5, -105.5, -104.5, -103.5, -102.5, -101.5, -100.5,\n",
       "        -99.5,  -98.5,  -97.5,  -96.5,  -95.5,  -94.5,  -93.5,  -92.5,\n",
       "        -91.5,  -90.5,  -89.5,  -88.5,  -87.5,  -86.5,  -85.5,  -84.5,\n",
       "        -83.5,  -82.5,  -81.5,  -80.5,  -79.5,  -78.5,  -77.5,  -76.5,\n",
       "        -75.5,  -74.5,  -73.5,  -72.5,  -71.5,  -70.5,  -69.5,  -68.5,\n",
       "        -67.5,  -66.5,  -65.5,  -64.5,  -63.5,  -62.5,  -61.5,  -60.5,\n",
       "        -59.5,  -58.5,  -57.5,  -56.5,  -55.5,  -54.5,  -53.5,  -52.5,\n",
       "        -51.5,  -50.5,  -49.5,  -48.5,  -47.5,  -46.5,  -45.5,  -44.5,\n",
       "        -43.5,  -42.5,  -41.5,  -40.5,  -39.5,  -38.5,  -37.5,  -36.5,\n",
       "        -35.5,  -34.5,  -33.5,  -32.5,  -31.5,  -30.5,  -29.5,  -28.5,\n",
       "        -27.5,  -26.5,  -25.5,  -24.5,  -23.5,  -22.5,  -21.5,  -20.5,\n",
       "...\n",
       "         20.5,   21.5,   22.5,   23.5,   24.5,   25.5,   26.5,   27.5,\n",
       "         28.5,   29.5,   30.5,   31.5,   32.5,   33.5,   34.5,   35.5,\n",
       "         36.5,   37.5,   38.5,   39.5,   40.5,   41.5,   42.5,   43.5,\n",
       "         44.5,   45.5,   46.5,   47.5,   48.5,   49.5,   50.5,   51.5,\n",
       "         52.5,   53.5,   54.5,   55.5,   56.5,   57.5,   58.5,   59.5,\n",
       "         60.5,   61.5,   62.5,   63.5,   64.5,   65.5,   66.5,   67.5,\n",
       "         68.5,   69.5,   70.5,   71.5,   72.5,   73.5,   74.5,   75.5,\n",
       "         76.5,   77.5,   78.5,   79.5,   80.5,   81.5,   82.5,   83.5,\n",
       "         84.5,   85.5,   86.5,   87.5,   88.5,   89.5,   90.5,   91.5,\n",
       "         92.5,   93.5,   94.5,   95.5,   96.5,   97.5,   98.5,   99.5,\n",
       "        100.5,  101.5,  102.5,  103.5,  104.5,  105.5,  106.5,  107.5,\n",
       "        108.5,  109.5,  110.5,  111.5,  112.5,  113.5,  114.5,  115.5,\n",
       "        116.5,  117.5,  118.5,  119.5,  120.5,  121.5,  122.5,  123.5,\n",
       "        124.5,  125.5,  126.5,  127.5,  128.5,  129.5,  130.5,  131.5,\n",
       "        132.5,  133.5,  134.5,  135.5,  136.5,  137.5,  138.5,  139.5,\n",
       "        140.5,  141.5,  142.5,  143.5,  144.5,  145.5,  146.5,  147.5,\n",
       "        148.5,  149.5,  150.5,  151.5,  152.5,  153.5,  154.5,  155.5,\n",
       "        156.5,  157.5,  158.5,  159.5,  160.5,  161.5,  162.5,  163.5,\n",
       "        164.5,  165.5,  166.5,  167.5,  168.5,  169.5,  170.5,  171.5,\n",
       "        172.5,  173.5,  174.5,  175.5,  176.5,  177.5,  178.5,  179.5])</pre></div></li><li class='xr-var-item'><div class='xr-var-name'><span class='xr-has-index'>latitude</span></div><div class='xr-var-dims'>(latitude)</div><div class='xr-var-dtype'>float64</div><div class='xr-var-preview xr-preview'>-89.5 -88.5 -87.5 ... 88.5 89.5</div><input id='attrs-dc751153-9295-4b83-a0be-442f1cc1aa03' class='xr-var-attrs-in' type='checkbox' disabled><label for='attrs-dc751153-9295-4b83-a0be-442f1cc1aa03' title='Show/Hide attributes'><svg class='icon xr-icon-file-text2'><use xlink:href='#icon-file-text2'></use></svg></label><input id='data-5255e4ac-8147-4e7f-bb22-928a1459c5db' class='xr-var-data-in' type='checkbox'><label for='data-5255e4ac-8147-4e7f-bb22-928a1459c5db' title='Show/Hide data repr'><svg class='icon xr-icon-database'><use xlink:href='#icon-database'></use></svg></label><div class='xr-var-attrs'><dl class='xr-attrs'></dl></div><div class='xr-var-data'><pre>array([-89.5, -88.5, -87.5, -86.5, -85.5, -84.5, -83.5, -82.5, -81.5,\n",
       "       -80.5, -79.5, -78.5, -77.5, -76.5, -75.5, -74.5, -73.5, -72.5,\n",
       "       -71.5, -70.5, -69.5, -68.5, -67.5, -66.5, -65.5, -64.5, -63.5,\n",
       "       -62.5, -61.5, -60.5, -59.5, -58.5, -57.5, -56.5, -55.5, -54.5,\n",
       "       -53.5, -52.5, -51.5, -50.5, -49.5, -48.5, -47.5, -46.5, -45.5,\n",
       "       -44.5, -43.5, -42.5, -41.5, -40.5, -39.5, -38.5, -37.5, -36.5,\n",
       "       -35.5, -34.5, -33.5, -32.5, -31.5, -30.5, -29.5, -28.5, -27.5,\n",
       "       -26.5, -25.5, -24.5, -23.5, -22.5, -21.5, -20.5, -19.5, -18.5,\n",
       "       -17.5, -16.5, -15.5, -14.5, -13.5, -12.5, -11.5, -10.5,  -9.5,\n",
       "        -8.5,  -7.5,  -6.5,  -5.5,  -4.5,  -3.5,  -2.5,  -1.5,  -0.5,\n",
       "         0.5,   1.5,   2.5,   3.5,   4.5,   5.5,   6.5,   7.5,   8.5,\n",
       "         9.5,  10.5,  11.5,  12.5,  13.5,  14.5,  15.5,  16.5,  17.5,\n",
       "        18.5,  19.5,  20.5,  21.5,  22.5,  23.5,  24.5,  25.5,  26.5,\n",
       "        27.5,  28.5,  29.5,  30.5,  31.5,  32.5,  33.5,  34.5,  35.5,\n",
       "        36.5,  37.5,  38.5,  39.5,  40.5,  41.5,  42.5,  43.5,  44.5,\n",
       "        45.5,  46.5,  47.5,  48.5,  49.5,  50.5,  51.5,  52.5,  53.5,\n",
       "        54.5,  55.5,  56.5,  57.5,  58.5,  59.5,  60.5,  61.5,  62.5,\n",
       "        63.5,  64.5,  65.5,  66.5,  67.5,  68.5,  69.5,  70.5,  71.5,\n",
       "        72.5,  73.5,  74.5,  75.5,  76.5,  77.5,  78.5,  79.5,  80.5,\n",
       "        81.5,  82.5,  83.5,  84.5,  85.5,  86.5,  87.5,  88.5,  89.5])</pre></div></li></ul></div></li><li class='xr-section-item'><input id='section-20d09986-65c3-4f56-9cef-0841c2d48a0f' class='xr-section-summary-in' type='checkbox'  checked><label for='section-20d09986-65c3-4f56-9cef-0841c2d48a0f' class='xr-section-summary' >Data variables: <span>(1)</span></label><div class='xr-section-inline-details'></div><div class='xr-section-details'><ul class='xr-var-list'><li class='xr-var-item'><div class='xr-var-name'><span>pco2</span></div><div class='xr-var-dims'>(time, latitude, longitude)</div><div class='xr-var-dtype'>float32</div><div class='xr-var-preview xr-preview'>nan nan nan ... 311.4 311.5 311.6</div><input id='attrs-95295032-d9bf-4836-ada2-2d34d7ed75dc' class='xr-var-attrs-in' type='checkbox' ><label for='attrs-95295032-d9bf-4836-ada2-2d34d7ed75dc' title='Show/Hide attributes'><svg class='icon xr-icon-file-text2'><use xlink:href='#icon-file-text2'></use></svg></label><input id='data-f8fd2594-21b4-433d-b4e8-d5c0e3532d8d' class='xr-var-data-in' type='checkbox'><label for='data-f8fd2594-21b4-433d-b4e8-d5c0e3532d8d' title='Show/Hide data repr'><svg class='icon xr-icon-database'><use xlink:href='#icon-database'></use></svg></label><div class='xr-var-attrs'><dl class='xr-attrs'><dt><span>long_name :</span></dt><dd>pCO2</dd><dt><span>standard_name :</span></dt><dd>pCO2</dd><dt><span>units :</span></dt><dd>muatm</dd><dt><span>FillValue :</span></dt><dd>-999</dd></dl></div><div class='xr-var-data'><pre>array([[[      nan,       nan,       nan, ...,       nan,       nan,\n",
       "               nan],\n",
       "        [      nan,       nan,       nan, ...,       nan,       nan,\n",
       "               nan],\n",
       "        [      nan,       nan,       nan, ...,       nan,       nan,\n",
       "               nan],\n",
       "        ...,\n",
       "        [315.14966, 315.81934, 316.51526, ..., 313.55518, 314.006  ,\n",
       "         314.53192],\n",
       "        [314.69775, 315.2166 , 315.69608, ..., 313.59656, 313.8452 ,\n",
       "         314.20316],\n",
       "        [314.11844, 314.55133, 314.9022 , ..., 313.35098, 313.4478 ,\n",
       "         313.69327]],\n",
       "\n",
       "       [[      nan,       nan,       nan, ...,       nan,       nan,\n",
       "               nan],\n",
       "        [      nan,       nan,       nan, ...,       nan,       nan,\n",
       "               nan],\n",
       "        [      nan,       nan,       nan, ...,       nan,       nan,\n",
       "               nan],\n",
       "...\n",
       "        [305.3556 , 305.6348 , 305.9206 , ..., 304.64157, 304.81137,\n",
       "         305.0603 ],\n",
       "        [306.49792, 306.61694, 306.7134 , ..., 306.122  , 306.1729 ,\n",
       "         306.31833],\n",
       "        [306.9292 , 306.95337, 306.94376, ..., 306.76892, 306.7382 ,\n",
       "         306.81924]],\n",
       "\n",
       "       [[      nan,       nan,       nan, ...,       nan,       nan,\n",
       "               nan],\n",
       "        [      nan,       nan,       nan, ...,       nan,       nan,\n",
       "               nan],\n",
       "        [      nan,       nan,       nan, ...,       nan,       nan,\n",
       "               nan],\n",
       "        ...,\n",
       "        [311.8856 , 312.3367 , 312.8415 , ..., 310.78775, 311.10638,\n",
       "         311.4712 ],\n",
       "        [311.96143, 312.20676, 312.47025, ..., 311.32114, 311.49146,\n",
       "         311.71005],\n",
       "        [311.81512, 311.95016, 312.08032, ..., 311.44778, 311.5148 ,\n",
       "         311.6489 ]]], dtype=float32)</pre></div></li></ul></div></li><li class='xr-section-item'><input id='section-1da3a6c9-d6e2-48f1-9eaf-010b447a9113' class='xr-section-summary-in' type='checkbox'  checked><label for='section-1da3a6c9-d6e2-48f1-9eaf-010b447a9113' class='xr-section-summary' >Attributes: <span>(7)</span></label><div class='xr-section-inline-details'></div><div class='xr-section-details'><dl class='xr-attrs'><dt><span>institution :</span></dt><dd>Max Planck Institute for Meteorology, Université Libre Bruxelles</dd><dt><span>institude_id :</span></dt><dd>MPI-M, ULB</dd><dt><span>model_id :</span></dt><dd>SOM-FFN</dd><dt><span>run_id :</span></dt><dd>merged_clim</dd><dt><span>contact :</span></dt><dd>Peter Landschutzer (Peter.Landschuetzer@mpimet.mpg.de)</dd><dt><span>creation_date :</span></dt><dd>2020-03-26</dd><dt><span>regrid_method :</span></dt><dd>conservative</dd></dl></div></li></ul></div></div>"
      ],
      "text/plain": [
       "<xarray.Dataset>\n",
       "Dimensions:    (latitude: 180, longitude: 360, time: 12)\n",
       "Coordinates:\n",
       "  * time       (time) int32 1 2 3 4 5 6 7 8 9 10 11 12\n",
       "  * longitude  (longitude) float64 -179.5 -178.5 -177.5 ... 177.5 178.5 179.5\n",
       "  * latitude   (latitude) float64 -89.5 -88.5 -87.5 -86.5 ... 87.5 88.5 89.5\n",
       "Data variables:\n",
       "    pco2       (time, latitude, longitude) float32 nan nan nan ... 311.5 311.6\n",
       "Attributes:\n",
       "    institution:    Max Planck Institute for Meteorology, Université Libre Br...\n",
       "    institude_id:   MPI-M, ULB\n",
       "    model_id:       SOM-FFN\n",
       "    run_id:         merged_clim\n",
       "    contact:        Peter Landschutzer (Peter.Landschuetzer@mpimet.mpg.de)\n",
       "    creation_date:  2020-03-26\n",
       "    regrid_method:  conservative"
      ]
     },
     "execution_count": 37,
     "metadata": {},
     "output_type": "execute_result"
    }
   ],
   "source": [
    "coastal_clim = coastal_clim.where(coastal_clim != -999) #fill negative values (land) with nan\n",
    "\n",
    "#Regrid\n",
    "coastal_clim_regridder = xesmf.Regridder(coastal_clim, ideal_grid, 'conservative', periodic=True)  #see notes above on why conservative over bilinear\n",
    "coastal_clim_out = coastal_clim_regridder(coastal_clim, keep_attrs=True)\n",
    "#coastal_clim_out"
   ]
  },
  {
   "cell_type": "code",
   "execution_count": 39,
   "id": "d791c572-f063-465c-a5a3-00ffe55b33d8",
   "metadata": {},
   "outputs": [],
   "source": [
    "#convert pco2 to fco2\n",
    "#The data is centered on 2006 so we'll convert this Landschutzer climatology product to fco2 using inputs for the year 2006 from SLP and SST\n",
    "#Note that this requires SST and SLP from above\n",
    "coastal_clim_out_fco2 = pCO2_to_fCO2(coastal_clim_out.pco2, \n",
    "                                     sst_out.sst.sel(time=slice(str('2006-01'),str('2006-12'))),\n",
    "                                     mslp_out.mslp.sel(time=slice(str('2006-01'),str('2006-12'))),\n",
    "                                     tempEQ_C=None)"
   ]
  },
  {
   "cell_type": "code",
   "execution_count": 40,
   "id": "7340d90f-5459-4969-a601-9c7944a7b522",
   "metadata": {},
   "outputs": [],
   "source": [
    "#we now have 12 months of coastal fco2 data, let's replicate for the desired time frame so merging is easier later\n",
    "coastal_out_full_fco2 = np.empty(shape=(len(ttime),180,360)) \n",
    "#now fill array with climatology\n",
    "for i, m in enumerate(ttime): \n",
    "    coastal_out_full_fco2[i,:,:] = coastal_clim_out_fco2[m.month-1,:,:]\n",
    "#coastal_out_full_fco2"
   ]
  },
  {
   "cell_type": "code",
   "execution_count": 41,
   "id": "55481a51-522e-4874-916e-5ef3dca37b22",
   "metadata": {},
   "outputs": [],
   "source": [
    "coastal_out_full_fco2_xr = xr.Dataset({'fco2':([\"time\",\"ylat\",\"xlon\"],coastal_out_full_fco2.data)},\n",
    "                    coords={'time': (['time'],ttime.values),'ylat':(['ylat'],ideal_grid.latitude.data),'xlon':(['xlon'],ideal_grid.longitude.data)})\n",
    "coastal_out_full_fco2_xr.fco2.attrs['description'] = 'uses pco2, noaa sst and ERA5 MSLP to convert pCO2 to fCO2 using pCO2_to_fCO2 script'\n",
    "coastal_out_full_fco2_xr.fco2.attrs['units'] = 'uatm'"
   ]
  },
  {
   "cell_type": "code",
   "execution_count": 46,
   "id": "911c6212-02be-46c3-b9b6-df19b4d4c2a4",
   "metadata": {},
   "outputs": [
    {
     "name": "stdout",
     "output_type": "stream",
     "text": [
      "Saved fCO2_NOAA-NCEI_MPI-ULB-SOM-FFN_198201-202304.nc to /data/artemis/workspace/ds4114/online_data/pCO2/processed/\n"
     ]
    }
   ],
   "source": [
    "output_netcdf_with_date(coastal_out_full_fco2_xr, data_folder_root+'pCO2/processed/', 'fCO2_NOAA-NCEI_MPI-ULB-SOM-FFN')"
   ]
  },
  {
   "cell_type": "code",
   "execution_count": 45,
   "id": "86cf451b-6bc6-4722-b7fd-02710421456c",
   "metadata": {},
   "outputs": [
    {
     "data": {
      "image/png": "[encoded data removed]",
      "text/plain": [
       "<Figure size 432x216 with 2 Axes>"
      ]
     },
     "metadata": {
      "needs_background": "light"
     },
     "output_type": "display_data"
    }
   ],
   "source": [
    "fig = plt.figure(figsize=(figsizew,figsizeh))\n",
    "#plt.contourf(ideal_grid.longitude,ideal_grid.latitude,np.nanmax(coastal_out_full_fco2_xr.fco2, axis=0)) #max across time \n",
    "plt.contourf(ideal_grid.longitude,ideal_grid.latitude,coastal_out_full_fco2_xr.fco2.sel(time='2006-06-15')) #just one specific month\n",
    "plt.title('Coastal File fCO2'); plt.xlabel('Lon'); plt.ylabel('Lat')\n",
    "plt.colorbar().set_label('uatm');"
   ]
  },
  {
   "cell_type": "code",
   "execution_count": null,
   "id": "6642700d-faf5-438d-a11b-48d6b199541d",
   "metadata": {},
   "outputs": [],
   "source": []
  },
  {
   "cell_type": "markdown",
   "id": "a81b979a",
   "metadata": {},
   "source": [
    "# Atmospheric CO2 (xCO2)"
   ]
  },
  {
   "cell_type": "code",
   "execution_count": 44,
   "id": "efa0060d",
   "metadata": {},
   "outputs": [],
   "source": [
    "#data was downloaded monthly as csv. Convert to a xarray\n",
    "#Note that the number of header rows (55) is hardcoded here\n",
    "xco2_df = pd.read_csv(data_folder_root+r'xCO2/originals/xCO2_NOAA_xCO2-mm-gl-monthly_197901-202306.csv', skiprows=55)  \n",
    "#xco2_df.head(3)"
   ]
  },
  {
   "cell_type": "code",
   "execution_count": 46,
   "id": "3ed15fa7",
   "metadata": {},
   "outputs": [],
   "source": [
    "#make time the index; drop unneeded columns; convert to xarray\n",
    "xco2_df['time'] = xco2_df.apply(lambda row: datetime.datetime(int(row.year), int(row.month), 15), axis=1) #putting as 15th of the month\n",
    "xco2_df['time'] = pd.to_datetime(xco2_df.time)\n",
    "xco2_df.index = pd.DatetimeIndex(xco2_df.time)\n",
    "\n",
    "xco2_xr = xco2_df[['trend']].to_xarray() #we only want the \"trend\" field because it matches historical work that did not factor seasonality \n",
    "xco2_xr_filtered = xco2_xr.sel(time=slice(str(processed_start_yearmonth),str(processed_end_yearmonth))) #filter for desired time\n",
    "xco2_xr_filtered = xco2_xr_filtered.rename({'trend': 'xco2_trend'})\n",
    "#xco2_xr_filtered"
   ]
  },
  {
   "cell_type": "code",
   "execution_count": 47,
   "id": "1010393f",
   "metadata": {},
   "outputs": [
    {
     "name": "stdout",
     "output_type": "stream",
     "text": [
      "Cancelling output - xCO2_NOAA_xCO2-mm-gl-monthly_198201-202303.nc already exists in /data/artemis/workspace/ds4114/online_data/xCO2/processed/\n"
     ]
    }
   ],
   "source": [
    "output_netcdf_with_date(xco2_xr_filtered, data_folder_root+'xCO2/processed/', 'xCO2_NOAA_xCO2-mm-gl-monthly')"
   ]
  },
  {
   "cell_type": "code",
   "execution_count": 48,
   "id": "a44f72de",
   "metadata": {
    "scrolled": true
   },
   "outputs": [
    {
     "data": {
      "image/png": "[encoded data removed]",
      "text/plain": [
       "<Figure size 432x216 with 1 Axes>"
      ]
     },
     "metadata": {
      "needs_background": "light"
     },
     "output_type": "display_data"
    }
   ],
   "source": [
    "fig = plt.figure(figsize=(figsizew,figsizeh))\n",
    "plt.plot(xco2_xr_filtered.time,xco2_xr_filtered.xco2_trend)\n",
    "plt.title('Atmospheric CO2 (trend)'); plt.xlabel('Year'); plt.ylabel('xCO2 (uatm)');"
   ]
  },
  {
   "cell_type": "code",
   "execution_count": null,
   "id": "a3186654",
   "metadata": {},
   "outputs": [],
   "source": []
  }
 ],
 "metadata": {
  "kernelspec": {
   "display_name": "leap_co2_amanada",
   "language": "python",
   "name": "leap_co2_amanada"
  },
  "language_info": {
   "codemirror_mode": {
    "name": "ipython",
    "version": 3
   },
   "file_extension": ".py",
   "mimetype": "text/x-python",
   "name": "python",
   "nbconvert_exporter": "python",
   "pygments_lexer": "ipython3",
   "version": "3.8.5"
  }
 },
 "nbformat": 4,
 "nbformat_minor": 5
}
